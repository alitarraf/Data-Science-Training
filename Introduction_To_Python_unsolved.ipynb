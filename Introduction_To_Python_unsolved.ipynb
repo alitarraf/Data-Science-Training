{
  "nbformat": 4,
  "nbformat_minor": 0,
  "metadata": {
    "colab": {
      "name": "Introduction To Python_unsolved.ipynb",
      "version": "0.3.2",
      "provenance": [],
      "collapsed_sections": [
        "G-lN-evD_-lB",
        "6qoICbPLOHQS",
        "rvZnAGQq3VrS"
      ],
      "include_colab_link": true
    },
    "language_info": {
      "codemirror_mode": {
        "name": "ipython",
        "version": 3
      },
      "file_extension": ".py",
      "mimetype": "text/x-python",
      "name": "python",
      "nbconvert_exporter": "python",
      "pygments_lexer": "ipython3",
      "version": "3.5.2"
    },
    "kernelspec": {
      "display_name": "Python 3",
      "language": "python",
      "name": "python3"
    }
  },
  "cells": [
    {
      "cell_type": "markdown",
      "metadata": {
        "id": "view-in-github",
        "colab_type": "text"
      },
      "source": [
        "<a href=\"https://colab.research.google.com/github/alitarraf/Data-Science-Training/blob/master/Introduction_To_Python_unsolved.ipynb\" target=\"_parent\"><img src=\"https://colab.research.google.com/assets/colab-badge.svg\" alt=\"Open In Colab\"/></a>"
      ]
    },
    {
      "cell_type": "markdown",
      "metadata": {
        "id": "WwIOwQMUMYFD",
        "colab_type": "text"
      },
      "source": [
        "![alt text](https://raw.githubusercontent.com/alitarraf/Data-Science-Training/master/assets/princess.jpg)"
      ]
    },
    {
      "cell_type": "markdown",
      "metadata": {
        "id": "4d5cIfU3WKoI",
        "colab_type": "text"
      },
      "source": [
        "# Introduction to Python (Part 1)"
      ]
    },
    {
      "cell_type": "markdown",
      "metadata": {
        "id": "nmAY8Y6vWKoJ",
        "colab_type": "text"
      },
      "source": [
        "# 1. Why Python\n",
        "* Simple languange\n",
        "* Straightforward synthax\n",
        "* Easy to learn/read/maintain\n",
        "* Employers like python\n",
        "* Good for data analysis \n",
        "* Good for graphing and visualization\n",
        "\n",
        "\n"
      ]
    },
    {
      "cell_type": "markdown",
      "metadata": {
        "id": "fKp2IReXN1hc",
        "colab_type": "text"
      },
      "source": [
        "\n",
        "# 2. Basics of Python"
      ]
    },
    {
      "cell_type": "markdown",
      "metadata": {
        "id": "G-lN-evD_-lB",
        "colab_type": "text"
      },
      "source": [
        "## Python as a Calculator"
      ]
    },
    {
      "cell_type": "code",
      "metadata": {
        "id": "gzhnb9EFAEmJ",
        "colab_type": "code",
        "colab": {}
      },
      "source": [
        "1+1"
      ],
      "execution_count": 0,
      "outputs": []
    },
    {
      "cell_type": "code",
      "metadata": {
        "id": "c0ptLt6HDIXl",
        "colab_type": "code",
        "colab": {}
      },
      "source": [
        "9876*1234"
      ],
      "execution_count": 0,
      "outputs": []
    },
    {
      "cell_type": "code",
      "metadata": {
        "id": "kTAArhwzDITb",
        "colab_type": "code",
        "colab": {}
      },
      "source": [
        "(76+89+2-5419)*619/11"
      ],
      "execution_count": 0,
      "outputs": []
    },
    {
      "cell_type": "markdown",
      "metadata": {
        "id": "6qoICbPLOHQS",
        "colab_type": "text"
      },
      "source": [
        "## Hello World!"
      ]
    },
    {
      "cell_type": "code",
      "metadata": {
        "id": "9scXpFtqWKoK",
        "colab_type": "code",
        "colab": {}
      },
      "source": [
        "print('Hello, World!')"
      ],
      "execution_count": 0,
      "outputs": []
    },
    {
      "cell_type": "code",
      "metadata": {
        "id": "v-cL5xGNAFvu",
        "colab_type": "code",
        "colab": {}
      },
      "source": [
        "print (\"Hello, World!\")"
      ],
      "execution_count": 0,
      "outputs": []
    },
    {
      "cell_type": "markdown",
      "metadata": {
        "id": "e1o5WObjAKZ1",
        "colab_type": "text"
      },
      "source": [
        "#### Your Turn!"
      ]
    },
    {
      "cell_type": "markdown",
      "metadata": {
        "id": "lrnOE7iKASQq",
        "colab_type": "text"
      },
      "source": [
        "Print your full name below"
      ]
    },
    {
      "cell_type": "code",
      "metadata": {
        "id": "Xg8NMbY9AZ7U",
        "colab_type": "code",
        "colab": {}
      },
      "source": [
        "## START CODE HERE\n",
        "\n",
        "## END CODE HERE"
      ],
      "execution_count": 0,
      "outputs": []
    },
    {
      "cell_type": "markdown",
      "metadata": {
        "id": "2FKf6QKRAlIi",
        "colab_type": "text"
      },
      "source": [
        "##### Expected output"
      ]
    },
    {
      "cell_type": "markdown",
      "metadata": {
        "id": "rby-0hEnOP4l",
        "colab_type": "text"
      },
      "source": [
        "\n",
        "```\n",
        "Full Name\n",
        "```"
      ]
    },
    {
      "cell_type": "markdown",
      "metadata": {
        "id": "p7PKpyg0WKoS",
        "colab_type": "text"
      },
      "source": [
        "## Basic Data Types"
      ]
    },
    {
      "cell_type": "markdown",
      "metadata": {
        "id": "ujkxQ4SvmFRU",
        "colab_type": "text"
      },
      "source": [
        "Python is loosly typed, there's no nead to declare the data types"
      ]
    },
    {
      "cell_type": "markdown",
      "metadata": {
        "id": "QJDsyDc4Okrl",
        "colab_type": "text"
      },
      "source": [
        "### Integers and Floats"
      ]
    },
    {
      "cell_type": "code",
      "metadata": {
        "id": "ylUDKjzJWKoT",
        "colab_type": "code",
        "colab": {}
      },
      "source": [
        "x = 1\n",
        "y = 1.0\n",
        "print(x)\n",
        "print(y)\n",
        "\n",
        "print (x, y)\n"
      ],
      "execution_count": 0,
      "outputs": []
    },
    {
      "cell_type": "markdown",
      "metadata": {
        "id": "2lfFMF01CKlq",
        "colab_type": "text"
      },
      "source": [
        "#### Your Turn!"
      ]
    },
    {
      "cell_type": "markdown",
      "metadata": {
        "id": "u8h9MN-hCNf5",
        "colab_type": "text"
      },
      "source": [
        "- Assign the numbers (4.78 - 3 - 9000.5) to three different variables\n",
        "- Print the numbers vertically\n",
        "- Print the numbers on the same line\n"
      ]
    },
    {
      "cell_type": "code",
      "metadata": {
        "id": "EE5F3eo7C6zh",
        "colab_type": "code",
        "colab": {}
      },
      "source": [
        "## START CODE HERE\n",
        "\n",
        "## END CODE HERE"
      ],
      "execution_count": 0,
      "outputs": []
    },
    {
      "cell_type": "markdown",
      "metadata": {
        "id": "oEYKyCNfDb3a",
        "colab_type": "text"
      },
      "source": [
        "##### Expected output\n"
      ]
    },
    {
      "cell_type": "markdown",
      "metadata": {
        "id": "18sn6j2WOrp2",
        "colab_type": "text"
      },
      "source": [
        "```\n",
        "4.78\n",
        "3\n",
        "9000.5\n",
        "\n",
        "4.78 3 9000.5\n",
        "\n",
        "```"
      ]
    },
    {
      "cell_type": "markdown",
      "metadata": {
        "id": "s9ccbZ_KWKoW",
        "colab_type": "text"
      },
      "source": [
        "### Strings"
      ]
    },
    {
      "cell_type": "code",
      "metadata": {
        "id": "P1oLUS-gWKoa",
        "colab_type": "code",
        "colab": {}
      },
      "source": [
        "x = 'hello'\n",
        "y = \"hello\"\n",
        "print(x)\n",
        "print(y)"
      ],
      "execution_count": 0,
      "outputs": []
    },
    {
      "cell_type": "markdown",
      "metadata": {
        "id": "fxs-mjjwWKod",
        "colab_type": "text"
      },
      "source": [
        "### Multiple assignment"
      ]
    },
    {
      "cell_type": "code",
      "metadata": {
        "id": "D5hoBljUWKod",
        "colab_type": "code",
        "colab": {}
      },
      "source": [
        "x, y = 1, 2\n",
        "print(x)\n",
        "print(y)\n",
        "\n",
        "a,b,c= 4,5,6\n",
        "print (a,b,c)\n"
      ],
      "execution_count": 0,
      "outputs": []
    },
    {
      "cell_type": "markdown",
      "metadata": {
        "id": "fSmxNCHeWKof",
        "colab_type": "text"
      },
      "source": [
        "### Checking data types"
      ]
    },
    {
      "cell_type": "code",
      "metadata": {
        "id": "ZgiiRH2rWKog",
        "colab_type": "code",
        "colab": {}
      },
      "source": [
        "x = 1\n",
        "y = 1.0\n",
        "z = '1.0'\n",
        "print(type(x))\n",
        "print(type(y))\n",
        "print(type(z))"
      ],
      "execution_count": 0,
      "outputs": []
    },
    {
      "cell_type": "markdown",
      "metadata": {
        "id": "oRc94I_nWKoj",
        "colab_type": "text"
      },
      "source": [
        "### Operators with strings and numbers"
      ]
    },
    {
      "cell_type": "code",
      "metadata": {
        "id": "oZNLp0Z_WKol",
        "colab_type": "code",
        "colab": {}
      },
      "source": [
        "print(1 + 2)\n",
        "print(2 * 2)"
      ],
      "execution_count": 0,
      "outputs": []
    },
    {
      "cell_type": "code",
      "metadata": {
        "id": "1R1nAq2gWKoq",
        "colab_type": "code",
        "colab": {}
      },
      "source": [
        "print('hello' + ' world')"
      ],
      "execution_count": 0,
      "outputs": []
    },
    {
      "cell_type": "markdown",
      "metadata": {
        "id": "UEi2hRcnHH0i",
        "colab_type": "text"
      },
      "source": [
        "#### Your Turn!"
      ]
    },
    {
      "cell_type": "markdown",
      "metadata": {
        "id": "hyIe5XkMHL9Y",
        "colab_type": "text"
      },
      "source": [
        "- Choose a number between 1 and 4\n",
        "- Add to it 2\n",
        "- Print the result\n",
        "- Print your first name multiplied by this number"
      ]
    },
    {
      "cell_type": "code",
      "metadata": {
        "id": "LCo9RrdhHs5t",
        "colab_type": "code",
        "colab": {}
      },
      "source": [
        "## START CODE HERE\n",
        "\n",
        "## END CODE HERE"
      ],
      "execution_count": 0,
      "outputs": []
    },
    {
      "cell_type": "markdown",
      "metadata": {
        "id": "bRiVX0JtIFS6",
        "colab_type": "text"
      },
      "source": [
        "##### Expected output\n",
        "\n"
      ]
    },
    {
      "cell_type": "markdown",
      "metadata": {
        "id": "LRMBqNKKPKo2",
        "colab_type": "text"
      },
      "source": [
        "```\n",
        "4\n",
        "Layane Layane Layane Layane\n",
        "```"
      ]
    },
    {
      "cell_type": "markdown",
      "metadata": {
        "id": "Ft1hcJ7pWKow",
        "colab_type": "text"
      },
      "source": [
        "### String operations"
      ]
    },
    {
      "cell_type": "code",
      "metadata": {
        "id": "9BWy6ceEWKoy",
        "colab_type": "code",
        "colab": {}
      },
      "source": [
        "x = 'hello, world.'\n",
        "\n",
        "print(len(x))"
      ],
      "execution_count": 0,
      "outputs": []
    },
    {
      "cell_type": "markdown",
      "metadata": {
        "id": "-d96maW5WKo1",
        "colab_type": "text"
      },
      "source": [
        "Slicing"
      ]
    },
    {
      "cell_type": "code",
      "metadata": {
        "id": "XkP64dB1WKo2",
        "colab_type": "code",
        "colab": {}
      },
      "source": [
        "x = 'hello, world.'\n",
        "\n",
        "print (x[0])\n",
        "print(x[7:11])\n",
        "print(x[:5])\n",
        "print(x[7:])\n",
        "print (x[-1])\n"
      ],
      "execution_count": 0,
      "outputs": []
    },
    {
      "cell_type": "markdown",
      "metadata": {
        "id": "QvAZfExyWKpA",
        "colab_type": "text"
      },
      "source": [
        "String formatting"
      ]
    },
    {
      "cell_type": "code",
      "metadata": {
        "id": "hXlxRhQYWKpA",
        "colab_type": "code",
        "colab": {}
      },
      "source": [
        "x = 'Layane'\n",
        "\n",
        "print('Hello %s' % x)"
      ],
      "execution_count": 0,
      "outputs": []
    },
    {
      "cell_type": "markdown",
      "metadata": {
        "id": "RnBod_cXIz9W",
        "colab_type": "text"
      },
      "source": [
        "#### Your Turn!"
      ]
    },
    {
      "cell_type": "markdown",
      "metadata": {
        "id": "yq_QIJbwLPTS",
        "colab_type": "text"
      },
      "source": [
        "- Type: \"Today is a beautiful day\"\n",
        "- Print the length of this phrase\n",
        "- Print \"beautiful\" using the slicing tool\n",
        "- Print the legnth of beautiful\n",
        "- Print \"life is beautiful\" using string formatting"
      ]
    },
    {
      "cell_type": "code",
      "metadata": {
        "id": "kWLQuNlqL7ly",
        "colab_type": "code",
        "colab": {}
      },
      "source": [
        "## START CODE HERE\n",
        "\n",
        "## END CODE HERE"
      ],
      "execution_count": 0,
      "outputs": []
    },
    {
      "cell_type": "markdown",
      "metadata": {
        "id": "rYENcu1_Nahh",
        "colab_type": "text"
      },
      "source": [
        "##### Expected output\n",
        "\n"
      ]
    },
    {
      "cell_type": "markdown",
      "metadata": {
        "id": "203HVWUEP_yt",
        "colab_type": "text"
      },
      "source": [
        "\n",
        "```\n",
        "24\n",
        "beautiful\n",
        "9\n",
        "life is beautiful\n",
        "\n",
        "```"
      ]
    },
    {
      "cell_type": "markdown",
      "metadata": {
        "id": "NxdFndEtWKpE",
        "colab_type": "text"
      },
      "source": [
        "## Conditions"
      ]
    },
    {
      "cell_type": "markdown",
      "metadata": {
        "id": "1MynN5CtQVYr",
        "colab_type": "text"
      },
      "source": [
        "### Boolean variables\n",
        "Conditions are evaluated using boolean variables"
      ]
    },
    {
      "cell_type": "code",
      "metadata": {
        "id": "tdIJR3yiWKpJ",
        "colab_type": "code",
        "colab": {}
      },
      "source": [
        "y = (2 == 3)\n",
        "print(y)"
      ],
      "execution_count": 0,
      "outputs": []
    },
    {
      "cell_type": "markdown",
      "metadata": {
        "id": "7_SwQICEQrBU",
        "colab_type": "text"
      },
      "source": [
        "#### Your Turn!"
      ]
    },
    {
      "cell_type": "markdown",
      "metadata": {
        "id": "rzZB9RoMQuDv",
        "colab_type": "text"
      },
      "source": [
        "- Assign two numbers to two different variables x and y\n",
        "- Verify if x and y are equal"
      ]
    },
    {
      "cell_type": "code",
      "metadata": {
        "id": "wT1ZpE-TQqNh",
        "colab_type": "code",
        "colab": {}
      },
      "source": [
        "## START YOUR CODE HERE\n",
        "\n",
        "## END YOUR CODE HERE"
      ],
      "execution_count": 0,
      "outputs": []
    },
    {
      "cell_type": "markdown",
      "metadata": {
        "id": "pMC1XYogRSgt",
        "colab_type": "text"
      },
      "source": [
        "##### Expected Output"
      ]
    },
    {
      "cell_type": "markdown",
      "metadata": {
        "id": "yZuBd9kHRVpH",
        "colab_type": "text"
      },
      "source": [
        "```\n",
        "False\n",
        "```\n",
        "\n"
      ]
    },
    {
      "cell_type": "markdown",
      "metadata": {
        "id": "994IQQW8WKpN",
        "colab_type": "text"
      },
      "source": [
        "### Boolean operators"
      ]
    },
    {
      "cell_type": "code",
      "metadata": {
        "id": "3oC1JK39WKpP",
        "colab_type": "code",
        "colab": {}
      },
      "source": [
        "x = not (1 == 2)\n",
        "print(x)"
      ],
      "execution_count": 0,
      "outputs": []
    },
    {
      "cell_type": "code",
      "metadata": {
        "id": "c2G2_xuZWKpT",
        "colab_type": "code",
        "colab": {}
      },
      "source": [
        "y = (1 == 1) and (1 == 2)\n",
        "print(y)"
      ],
      "execution_count": 0,
      "outputs": []
    },
    {
      "cell_type": "code",
      "metadata": {
        "id": "z-LnsUZcWKpX",
        "colab_type": "code",
        "colab": {}
      },
      "source": [
        "z = (1 == 1) or (1 == 2)\n",
        "print(z)"
      ],
      "execution_count": 0,
      "outputs": []
    },
    {
      "cell_type": "markdown",
      "metadata": {
        "id": "n8OmclsfWKpb",
        "colab_type": "text"
      },
      "source": [
        "### The \"in\" operator"
      ]
    },
    {
      "cell_type": "code",
      "metadata": {
        "id": "Siuoq1DuWKpd",
        "colab_type": "code",
        "colab": {}
      },
      "source": [
        "x = 'asdfg'\n",
        "y = 'sd'\n",
        "print(y in x)"
      ],
      "execution_count": 0,
      "outputs": []
    },
    {
      "cell_type": "code",
      "metadata": {
        "id": "oraNIt1TWKpg",
        "colab_type": "code",
        "colab": {}
      },
      "source": [
        "x = 'asdfg'\n",
        "z = 'sf'\n",
        "print(z in x)"
      ],
      "execution_count": 0,
      "outputs": []
    },
    {
      "cell_type": "markdown",
      "metadata": {
        "id": "4EVnhMpvWKpi",
        "colab_type": "text"
      },
      "source": [
        "### The \"if\" condition"
      ]
    },
    {
      "cell_type": "code",
      "metadata": {
        "id": "uYxELKo8WKpj",
        "colab_type": "code",
        "colab": {}
      },
      "source": [
        "x = 'helol'\n",
        "if x in 'hello':\n",
        "    print('Hello!')"
      ],
      "execution_count": 0,
      "outputs": []
    },
    {
      "cell_type": "code",
      "metadata": {
        "colab_type": "code",
        "id": "97gHQcdt708x",
        "colab": {}
      },
      "source": [
        "x = 3.0\n",
        "if type(x) is int:\n",
        "    print(\"I'm an int.\")\n",
        "else:\n",
        "    print(\"I'm not an int\")"
      ],
      "execution_count": 0,
      "outputs": []
    },
    {
      "cell_type": "code",
      "metadata": {
        "colab_type": "code",
        "id": "UYejGs64708j",
        "colab": {}
      },
      "source": [
        "x = 3.0\n",
        "if type(x) is int:\n",
        "    print(\"I'm an int.\")\n",
        "elif type(x) is float:\n",
        "    print(\"I'm a float.\")\n",
        "else:\n",
        "    print(\"I'm neither an int nor a float\")"
      ],
      "execution_count": 0,
      "outputs": []
    },
    {
      "cell_type": "markdown",
      "metadata": {
        "id": "t8buIEs8H1kf",
        "colab_type": "text"
      },
      "source": [
        "#### Your Turn!\n",
        "\n"
      ]
    },
    {
      "cell_type": "markdown",
      "metadata": {
        "id": "rmLead4SIRKa",
        "colab_type": "text"
      },
      "source": [
        "- Assign the number 2.0 and 2 in this order to two different variables x and y\n",
        "- Check if x > y and return \"You Got it Wrong!\"\n",
        "- Check if x < y and return \"You Got it Wrong!\"\n",
        "- Check if x = y and return \"You Got it Right!\"\n"
      ]
    },
    {
      "cell_type": "code",
      "metadata": {
        "id": "VYgtVgEAIGzc",
        "colab_type": "code",
        "colab": {}
      },
      "source": [
        "## START YOUR CODE HERE\n",
        "\n",
        "## END YOUR CODE HERE"
      ],
      "execution_count": 0,
      "outputs": []
    },
    {
      "cell_type": "markdown",
      "metadata": {
        "id": "4uPtlIohINQo",
        "colab_type": "text"
      },
      "source": [
        "##### Expected output\n"
      ]
    },
    {
      "cell_type": "markdown",
      "metadata": {
        "id": "FSsiwgX0YdM4",
        "colab_type": "text"
      },
      "source": [
        "```\n",
        "You got it right!\n",
        "```\n",
        "\n"
      ]
    },
    {
      "cell_type": "markdown",
      "metadata": {
        "id": "NnOjElvUWKpr",
        "colab_type": "text"
      },
      "source": [
        "## Containers"
      ]
    },
    {
      "cell_type": "markdown",
      "metadata": {
        "id": "6udsFmdJ6nj8",
        "colab_type": "text"
      },
      "source": [
        "### Lists\n",
        "Lists are array-like, they can hold multiple valriables. Each variable has a specific index that can be used to access the variable itself."
      ]
    },
    {
      "cell_type": "code",
      "metadata": {
        "id": "nT8WBBbnWKpr",
        "colab_type": "code",
        "colab": {}
      },
      "source": [
        "x = [1, 2, 3]\n",
        "print(x)\n",
        "print(type(x))"
      ],
      "execution_count": 0,
      "outputs": []
    },
    {
      "cell_type": "code",
      "metadata": {
        "id": "xTzK9TOHWKpt",
        "colab_type": "code",
        "colab": {}
      },
      "source": [
        "x = []\n",
        "x.append(1)\n",
        "x.append(2)\n",
        "x.append(3)\n",
        "print(x)"
      ],
      "execution_count": 0,
      "outputs": []
    },
    {
      "cell_type": "markdown",
      "metadata": {
        "id": "0RBNw-1nWKpx",
        "colab_type": "text"
      },
      "source": [
        "Slicing"
      ]
    },
    {
      "cell_type": "code",
      "metadata": {
        "id": "eSJlHbZQWKpx",
        "colab_type": "code",
        "colab": {}
      },
      "source": [
        "x = [1, 2, 3, 4, 5]\n",
        "print (len (x))\n",
        "print(x[1:4])\n",
        "print(x[1:5])\n",
        "print(x[3:])"
      ],
      "execution_count": 0,
      "outputs": []
    },
    {
      "cell_type": "markdown",
      "metadata": {
        "id": "fZsYwg2oWKp5",
        "colab_type": "text"
      },
      "source": [
        "Number of elements in a list"
      ]
    },
    {
      "cell_type": "code",
      "metadata": {
        "id": "6YCmowQ0WKp5",
        "colab_type": "code",
        "colab": {}
      },
      "source": [
        "x = [1, 2, 3, 4, 5]\n",
        "print(len(x))"
      ],
      "execution_count": 0,
      "outputs": []
    },
    {
      "cell_type": "markdown",
      "metadata": {
        "id": "HirlmDq7WKp9",
        "colab_type": "text"
      },
      "source": [
        "Accessing elements"
      ]
    },
    {
      "cell_type": "code",
      "metadata": {
        "id": "_JoikDn5WKp-",
        "colab_type": "code",
        "colab": {}
      },
      "source": [
        "x = [1, 2, 3, 4, 5]\n",
        "print('The first element of x: %s' % x[0])\n",
        "print('The third element of x: %s' % x[2])"
      ],
      "execution_count": 0,
      "outputs": []
    },
    {
      "cell_type": "markdown",
      "metadata": {
        "id": "AjSlwWFqzrqn",
        "colab_type": "text"
      },
      "source": [
        "#### Your Turn!"
      ]
    },
    {
      "cell_type": "markdown",
      "metadata": {
        "id": "BGL8hCgdz83d",
        "colab_type": "text"
      },
      "source": [
        "- Create an empty list a\n",
        "- Append to it the following numbers: 1, 4, 7, 10, 13\n",
        "- Verify that the number 1 is in the list using the boolean operator in, and retrun \"The number 1 is in the list a\"\n",
        "- Print the last two items\n",
        "- Append these two items to a new list b, and add to it the following two additional numbers: The sum of the two items, and the multiplication of the two items\n",
        "- Print b\n",
        "- Print \"the length of b is: \" and print the length of b\n",
        "- print: \"The third element of a is...\"\n",
        "- pirnt: \" The sum of the first and the last element of b is...\""
      ]
    },
    {
      "cell_type": "code",
      "metadata": {
        "id": "s49n96wJzu1O",
        "colab_type": "code",
        "colab": {}
      },
      "source": [
        "## START YOUR CODE HERE\n",
        "\n",
        "\n",
        "## Create and empty list a\n",
        "\n",
        "\n",
        "## Append to it the numbers\n",
        "\n",
        "\n",
        "## print a\n",
        "\n",
        "\n",
        "## Verify that 1 is in a using IF statement\n",
        "\n",
        "\n",
        "## Print the last two items of a using slicing\n",
        "\n",
        "\n",
        "## create a new list b\n",
        "\n",
        "\n",
        "## append to it the last two items of a\n",
        "\n",
        "\n",
        "## append to it the sum\n",
        "\n",
        "\n",
        "## append to it the product\n",
        "\n",
        "\n",
        "## print b\n",
        "\n",
        "\n",
        "## print the kength of b\n",
        "\n",
        "\n",
        "## print the third element of a\n",
        "\n",
        "\n",
        "## print the sum of the first and last element of b\n",
        "\n",
        "\n",
        "## END YOUR CODE HERE"
      ],
      "execution_count": 0,
      "outputs": []
    },
    {
      "cell_type": "markdown",
      "metadata": {
        "id": "BTYfLT3Sz26W",
        "colab_type": "text"
      },
      "source": [
        "##### Expected output"
      ]
    },
    {
      "cell_type": "markdown",
      "metadata": {
        "id": "FpSLIRoF3ovZ",
        "colab_type": "text"
      },
      "source": [
        "```\n",
        "The number 1 is in list a\n",
        "[10, 13]\n",
        "[10, 13, 23, 130]\n",
        "the legnth of b is: 4\n",
        "The third element of a is 10\n",
        "The sum of the first and last element of b is 140\n",
        "```\n",
        "\n"
      ]
    },
    {
      "cell_type": "markdown",
      "metadata": {
        "id": "v_-VzxIcWKqC",
        "colab_type": "text"
      },
      "source": [
        "### Dictionaries\n",
        "The dictionary is a data type that like lists, can store multiple values. Each value is mapped to its own key. Thus the keys of a dictionary are to be used to access its values."
      ]
    },
    {
      "cell_type": "code",
      "metadata": {
        "id": "8ZKRJM7sWKqD",
        "colab_type": "code",
        "colab": {}
      },
      "source": [
        "x = dict()\n",
        "print(x)"
      ],
      "execution_count": 0,
      "outputs": []
    },
    {
      "cell_type": "code",
      "metadata": {
        "id": "Un51UzHHWKqG",
        "colab_type": "code",
        "colab": {}
      },
      "source": [
        "x['key 1'] = 'value 1'\n",
        "x['key 2'] = 'value 2'\n",
        "x['key 3'] = 'value 3'\n",
        "print(x)"
      ],
      "execution_count": 0,
      "outputs": []
    },
    {
      "cell_type": "code",
      "metadata": {
        "id": "g1OaXJdTWKqJ",
        "colab_type": "code",
        "colab": {}
      },
      "source": [
        "x = {'key 1' : 'value 1', 'key 2': 'value 2'}\n",
        "print(x)"
      ],
      "execution_count": 0,
      "outputs": []
    },
    {
      "cell_type": "markdown",
      "metadata": {
        "id": "S38tA57mWKqM",
        "colab_type": "text"
      },
      "source": [
        "Removing elements"
      ]
    },
    {
      "cell_type": "code",
      "metadata": {
        "id": "2-7eDicgWKqN",
        "colab_type": "code",
        "colab": {}
      },
      "source": [
        "x = {'key 1' : 'value 1', 'key 2': 'value 2'}\n",
        "del x['key 1']\n",
        "print(x)"
      ],
      "execution_count": 0,
      "outputs": []
    },
    {
      "cell_type": "code",
      "metadata": {
        "id": "hjlo2HcSWKqQ",
        "colab_type": "code",
        "colab": {}
      },
      "source": [
        "x = {'key 1' : 'value 1', 'key 2': 'value 2'}\n",
        "y = x.pop('key 2')\n",
        "print(y)\n",
        "print(x)"
      ],
      "execution_count": 0,
      "outputs": []
    },
    {
      "cell_type": "markdown",
      "metadata": {
        "id": "sY2Fn1EiWKqV",
        "colab_type": "text"
      },
      "source": [
        "Number of elements in a dict"
      ]
    },
    {
      "cell_type": "code",
      "metadata": {
        "id": "gHGzC2tIWKqV",
        "colab_type": "code",
        "colab": {}
      },
      "source": [
        "x = {'key 1' : 'value 1', 'key 2': 'value 2'}\n",
        "print(len(x))"
      ],
      "execution_count": 0,
      "outputs": []
    },
    {
      "cell_type": "markdown",
      "metadata": {
        "id": "0r6a0srMWKqW",
        "colab_type": "text"
      },
      "source": [
        "Accessing elements"
      ]
    },
    {
      "cell_type": "code",
      "metadata": {
        "id": "aXaklf0xWKqX",
        "colab_type": "code",
        "colab": {}
      },
      "source": [
        "x = {'key 1' : 'value 1', 'key 2': 'value 2'}\n",
        "print(\"The value of the element at key 'key 1': %s\" % x['key 1'])"
      ],
      "execution_count": 0,
      "outputs": []
    },
    {
      "cell_type": "markdown",
      "metadata": {
        "id": "0VytGnzkWKqY",
        "colab_type": "text"
      },
      "source": [
        "Keys and values of a dict"
      ]
    },
    {
      "cell_type": "code",
      "metadata": {
        "id": "B36icCvzWKqZ",
        "colab_type": "code",
        "colab": {}
      },
      "source": [
        "x = {'key 1' : 'value 1', 'key 2': 'value 2'}\n",
        "\n",
        "# The keys of a dict\n",
        "print(x.keys())\n",
        "# The values of a dict\n",
        "print(x.values())"
      ],
      "execution_count": 0,
      "outputs": []
    },
    {
      "cell_type": "markdown",
      "metadata": {
        "id": "jYYk6M5-WKqc",
        "colab_type": "text"
      },
      "source": [
        "## Loops"
      ]
    },
    {
      "cell_type": "markdown",
      "metadata": {
        "id": "McQqoANM-pts",
        "colab_type": "text"
      },
      "source": [
        "### The \"for\" loop\n",
        "Used to iterate over a sequence"
      ]
    },
    {
      "cell_type": "code",
      "metadata": {
        "id": "dKa6LC3oWKqc",
        "colab_type": "code",
        "colab": {}
      },
      "source": [
        "for x in [1, 2, 3]:\n",
        "    print (x)"
      ],
      "execution_count": 0,
      "outputs": []
    },
    {
      "cell_type": "markdown",
      "metadata": {
        "id": "bKcB0NT1WKqp",
        "colab_type": "text"
      },
      "source": [
        "The \"range\" function is used to create a sequence of numbers"
      ]
    },
    {
      "cell_type": "code",
      "metadata": {
        "id": "gL9hfoPTWKqp",
        "colab_type": "code",
        "colab": {}
      },
      "source": [
        "x = range(5)\n",
        "print(x)"
      ],
      "execution_count": 0,
      "outputs": []
    },
    {
      "cell_type": "code",
      "metadata": {
        "id": "vErgUOTGWKqu",
        "colab_type": "code",
        "colab": {}
      },
      "source": [
        "x = range(3, 7)\n",
        "print(x)"
      ],
      "execution_count": 0,
      "outputs": []
    },
    {
      "cell_type": "code",
      "metadata": {
        "id": "qcBIMm-7WKqx",
        "colab_type": "code",
        "colab": {}
      },
      "source": [
        "x = range(1, 7, 2)\n",
        "print(x)"
      ],
      "execution_count": 0,
      "outputs": []
    },
    {
      "cell_type": "code",
      "metadata": {
        "id": "PenXOt2gWKq2",
        "colab_type": "code",
        "colab": {}
      },
      "source": [
        "x = range(5)\n",
        "for y in x:\n",
        "    print(y)"
      ],
      "execution_count": 0,
      "outputs": []
    },
    {
      "cell_type": "markdown",
      "metadata": {
        "id": "AFlJ84C4WKq4",
        "colab_type": "text"
      },
      "source": [
        "Iterating over a dictionary"
      ]
    },
    {
      "cell_type": "code",
      "metadata": {
        "id": "s84DOYQPWKq5",
        "colab_type": "code",
        "colab": {}
      },
      "source": [
        "x = {'k1': 'val1', 'k2': 'val2'}\n",
        "for y in x.items():\n",
        "    print(y)"
      ],
      "execution_count": 0,
      "outputs": []
    },
    {
      "cell_type": "markdown",
      "metadata": {
        "id": "cz3iHnyv_kc0",
        "colab_type": "text"
      },
      "source": [
        "#### Your Turn! \n",
        "- Create a list containing 3 strings:a,b and c\n",
        "- Loop over the list and print out each of its elements\n",
        "\n",
        "*   Create a dictionary conatining 3 elements key-value pairs\n",
        "*   Loop over the items of the dictionary and print out each key-value pair\n"
      ]
    },
    {
      "cell_type": "code",
      "metadata": {
        "id": "03y-YQA9_zAh",
        "colab_type": "code",
        "colab": {}
      },
      "source": [
        "## START YOUR CODE HERE\n",
        "\n",
        "## END YOUR CODE HERE"
      ],
      "execution_count": 0,
      "outputs": []
    },
    {
      "cell_type": "markdown",
      "metadata": {
        "id": "fiIgXHPq_vuJ",
        "colab_type": "text"
      },
      "source": [
        "##### Expected output"
      ]
    },
    {
      "cell_type": "markdown",
      "metadata": {
        "id": "Jw4jWDb2MvNk",
        "colab_type": "text"
      },
      "source": [
        "\n",
        "\n",
        "```\n",
        "a\n",
        "b\n",
        "c\n",
        "k1 val1\n",
        "k2 val2\n",
        "k3 val3\n",
        "```\n",
        "\n"
      ]
    },
    {
      "cell_type": "markdown",
      "metadata": {
        "id": "pEOk5rayWKq_",
        "colab_type": "text"
      },
      "source": [
        "### The \"while\" loop\n",
        "Repeats as long as a certain boolean condition holds"
      ]
    },
    {
      "cell_type": "code",
      "metadata": {
        "id": "quRKz98XWKq_",
        "colab_type": "code",
        "colab": {}
      },
      "source": [
        "x = 5\n",
        "while x > 2:\n",
        "    print (x)\n",
        "    x = x - 1"
      ],
      "execution_count": 0,
      "outputs": []
    },
    {
      "cell_type": "markdown",
      "metadata": {
        "id": "3U6xJ9LpWKrC",
        "colab_type": "text"
      },
      "source": [
        "### The \"break\" statement\n",
        "Used to break out of a loop"
      ]
    },
    {
      "cell_type": "code",
      "metadata": {
        "id": "7lIz-nkqWKrD",
        "colab_type": "code",
        "colab": {}
      },
      "source": [
        "for x in range(10):\n",
        "    print (x)\n",
        "    if x == 2:\n",
        "        break"
      ],
      "execution_count": 0,
      "outputs": []
    },
    {
      "cell_type": "markdown",
      "metadata": {
        "id": "70QqTVVRWKrH",
        "colab_type": "text"
      },
      "source": [
        "### The \"continue\" statement\n",
        "Used to skip the current iteration and continue to the next one"
      ]
    },
    {
      "cell_type": "code",
      "metadata": {
        "id": "C9NrF5LoWKrH",
        "colab_type": "code",
        "colab": {}
      },
      "source": [
        "for x in range(10):\n",
        "    if x > 1 and x < 9:\n",
        "        continue\n",
        "    print(x)"
      ],
      "execution_count": 0,
      "outputs": []
    },
    {
      "cell_type": "markdown",
      "metadata": {
        "id": "UGRmFf2cO59T",
        "colab_type": "text"
      },
      "source": [
        "#### Your Turn!\n",
        "\n",
        "- Assign a varibale to 10\n",
        "- Loop and print out the varaible as long as its value is greater than 7\n",
        "- Subtract 1 from your variable in the loop"
      ]
    },
    {
      "cell_type": "code",
      "metadata": {
        "id": "lR-9NQFgO6Op",
        "colab_type": "code",
        "outputId": "9edb0365-41ed-4063-ad14-a8c5e0a56a5a",
        "colab": {
          "base_uri": "https://localhost:8080/",
          "height": 68
        }
      },
      "source": [
        "## START YOUR CODE HER\n",
        "\n",
        "myVar = 10\n",
        "while myVar > 7:\n",
        "    print(myVar)\n",
        "    myVar = myVar - 1\n",
        "    \n",
        "    \n",
        "## END YOUR CODE HERE\n"
      ],
      "execution_count": 0,
      "outputs": [
        {
          "output_type": "stream",
          "text": [
            "10\n",
            "9\n",
            "8\n"
          ],
          "name": "stdout"
        }
      ]
    },
    {
      "cell_type": "markdown",
      "metadata": {
        "colab_type": "text",
        "id": "IJmfSkk8mM22"
      },
      "source": [
        "## Functions"
      ]
    },
    {
      "cell_type": "markdown",
      "metadata": {
        "id": "jR7Prf_dmQDP",
        "colab_type": "text"
      },
      "source": [
        "A function:\n",
        "\n",
        "- Orders code\n",
        "- Divides code into blocks\n",
        "- Makes code more readable\n",
        "- Makes code reusable\n",
        "\n",
        "A function encloses multiple lines of code that accomplish a certain task. It's formed of a block head, followed by a block (multiple lines) of code. In python, functions are defined using the keyword \"def\" and thus, the block head is formed as: def FunctionName(argument1, argument2, ...)."
      ]
    },
    {
      "cell_type": "code",
      "metadata": {
        "id": "FgJ3FsG5WKrK",
        "colab_type": "code",
        "colab": {}
      },
      "source": [
        "def SumOfTwo(x, y):\n",
        "    z = x + y\n",
        "    print(\"The sum of %s and %s is %s\" % (x, y, z))"
      ],
      "execution_count": 0,
      "outputs": []
    },
    {
      "cell_type": "markdown",
      "metadata": {
        "id": "_4G6Wp5aWKrT",
        "colab_type": "text"
      },
      "source": [
        "A function is called by writing the function's name followed by brackets filled with the corresponding arguments."
      ]
    },
    {
      "cell_type": "code",
      "metadata": {
        "id": "sI_NoVOSWKrU",
        "colab_type": "code",
        "colab": {}
      },
      "source": [
        "SumOfTwo(2, 3)"
      ],
      "execution_count": 0,
      "outputs": []
    },
    {
      "cell_type": "markdown",
      "metadata": {
        "id": "HirxamB5WKrW",
        "colab_type": "text"
      },
      "source": [
        "A function can also return values through the use of the \"return\" keyword."
      ]
    },
    {
      "cell_type": "code",
      "metadata": {
        "id": "RDeNlv5SWKrX",
        "colab_type": "code",
        "colab": {}
      },
      "source": [
        "def SumOfTwo(x, y):\n",
        "    z = x + y\n",
        "    print(\"The sum of %s and %s is %s\" % (x, y, z))\n",
        "    return z"
      ],
      "execution_count": 0,
      "outputs": []
    },
    {
      "cell_type": "code",
      "metadata": {
        "id": "TndmzNwEWKrZ",
        "colab_type": "code",
        "colab": {}
      },
      "source": [
        "returnedValue = SumOfTwo(2, 5)\n",
        "print('The returned value is: %s' % returnedValue)"
      ],
      "execution_count": 0,
      "outputs": []
    },
    {
      "cell_type": "markdown",
      "metadata": {
        "id": "q8-Fd7Wxb4tR",
        "colab_type": "text"
      },
      "source": [
        "#### Your Turn!"
      ]
    },
    {
      "cell_type": "markdown",
      "metadata": {
        "id": "kJzJaOXumv0d",
        "colab_type": "text"
      },
      "source": [
        "- Create a function \"Thirteen\" that takes two values a and b\n",
        "- This function should return True if one of the values is equal to 13 or if their sum or difference is 13\n",
        "- try it with the following pairs: 2 and 3, 2 and 13, 8 and 21"
      ]
    },
    {
      "cell_type": "code",
      "metadata": {
        "id": "JjaYpL45muIt",
        "colab_type": "code",
        "colab": {}
      },
      "source": [
        "## START YOUR CODE HERE\n",
        "\n",
        "\n",
        "## END YOUR CODE HERE"
      ],
      "execution_count": 0,
      "outputs": []
    },
    {
      "cell_type": "markdown",
      "metadata": {
        "id": "mukQBTLnmxpI",
        "colab_type": "text"
      },
      "source": [
        "##### ُExpected output"
      ]
    },
    {
      "cell_type": "markdown",
      "metadata": {
        "id": "42Z0_wT51NC5",
        "colab_type": "text"
      },
      "source": [
        "```\n",
        "False\n",
        "True\n",
        "True\n",
        "```\n",
        "\n"
      ]
    },
    {
      "cell_type": "markdown",
      "metadata": {
        "id": "rvZnAGQq3VrS",
        "colab_type": "text"
      },
      "source": [
        "#### Your Turn! CHALLENGING\n",
        "\n",
        "- Create a function \"FilterList\" that takes 3 arguments: a list \"myList\" and two numbers \"min\" and \"max\"\n",
        "- The function should retrun a list containing the numbers in myList that fall between min and max"
      ]
    },
    {
      "cell_type": "code",
      "metadata": {
        "id": "f_e4z4Fn1dy4",
        "colab_type": "code",
        "colab": {}
      },
      "source": [
        "## START YOUR CODE HERE\n",
        "\n",
        "def FilterList(myList, min, max):\n",
        "    result = []\n",
        "    for x in myList:\n",
        "        if (x <= max) and (x >= min):\n",
        "            result.append(x)\n",
        "    return result\n",
        "    \n",
        "l1 = range(10)\n",
        "l2 = FilterList(myList=l1, min=5, max=8)\n",
        "print(l2)\n",
        "\n",
        "# END YOUR CODE HERE"
      ],
      "execution_count": 0,
      "outputs": []
    },
    {
      "cell_type": "markdown",
      "metadata": {
        "id": "aBQZGTU0-YjX",
        "colab_type": "text"
      },
      "source": [
        "##### Expected output"
      ]
    },
    {
      "cell_type": "markdown",
      "metadata": {
        "id": "TyHToMUS-gQG",
        "colab_type": "text"
      },
      "source": [
        "```\n",
        "[5, 6, 7, 8]\n",
        "```\n",
        "\n"
      ]
    }
  ]
}