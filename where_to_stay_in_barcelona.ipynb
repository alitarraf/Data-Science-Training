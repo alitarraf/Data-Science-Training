{
  "nbformat": 4,
  "nbformat_minor": 0,
  "metadata": {
    "colab": {
      "name": "where-to-stay-in-barcelona.ipynb",
      "version": "0.3.2",
      "provenance": [],
      "collapsed_sections": [],
      "toc_visible": true,
      "include_colab_link": true
    },
    "language_info": {
      "codemirror_mode": {
        "name": "ipython",
        "version": 3
      },
      "file_extension": ".py",
      "mimetype": "text/x-python",
      "name": "python",
      "nbconvert_exporter": "python",
      "pygments_lexer": "ipython3",
      "version": "3.7.0"
    },
    "kernelspec": {
      "display_name": "Python 3",
      "language": "python",
      "name": "python3"
    }
  },
  "cells": [
    {
      "cell_type": "markdown",
      "metadata": {
        "id": "view-in-github",
        "colab_type": "text"
      },
      "source": [
        "<a href=\"https://colab.research.google.com/github/alitarraf/Data-Science-Training/blob/master/where_to_stay_in_barcelona.ipynb\" target=\"_parent\"><img src=\"https://colab.research.google.com/assets/colab-badge.svg\" alt=\"Open In Colab\"/></a>"
      ]
    },
    {
      "cell_type": "markdown",
      "metadata": {
        "id": "Kuun6ZDz5nvH",
        "colab_type": "text"
      },
      "source": [
        "# Python Webmapping with Folium and Geo-pandas\n",
        "\n",
        "\n",
        "This session aims at familiarizing you with several location intelligence tools within python. We will build up on some tools introduced along with geo-spatial tools that can be used to solve real world problems.\n",
        "\n",
        "**Instructions:**\n",
        "- You will be using Python 3.\n",
        "- Write the code in the specific areas for that\n",
        "- After coding your function, run the cell right below it to check if your result is correct.\n",
        "\n",
        "\n",
        "Let's get started!"
      ]
    },
    {
      "cell_type": "code",
      "metadata": {
        "id": "l-AOP85-R4Tm",
        "colab_type": "code",
        "colab": {
          "base_uri": "https://localhost:8080/",
          "height": 319
        },
        "outputId": "2a6f74f6-4884-42b3-8568-fa5795e9c8b4"
      },
      "source": [
        "# Download the data\n",
        "!git clone https://github.com/alitarraf/Data-Science-Training.git # download data from Github\n",
        "%cd \"Data-Science-Training/data\"\n",
        "!ls -lah  # list files in current directory"
      ],
      "execution_count": 1,
      "outputs": [
        {
          "output_type": "stream",
          "text": [
            "fatal: destination path 'Data-Science-Training' already exists and is not an empty directory.\n",
            "/content/Data-Science-Training/data\n",
            "total 12M\n",
            "drwxr-xr-x 3 root root  4.0K Jun 21 08:20  .\n",
            "drwxr-xr-x 5 root root  4.0K Jun 21 08:19  ..\n",
            "-rw-r--r-- 1 root root   18K Jun 21 08:19  Admission_Predict_Ver1.2.csv\n",
            "-rw-r--r-- 1 root root  8.8M Jun 21 08:19  Barcelona_Listing_2019.csv\n",
            "-rw-r--r-- 1 root root   31K Jun 21 08:19 'diet - medium.xls'\n",
            "-rw-r--r-- 1 root root   39K Jun 21 08:19  diet.xls\n",
            "-rw-r--r-- 1 root root  302K Jun 21 08:19  IMDB-Movie-Data.csv\n",
            "-rw-r--r-- 1 root root 1004K Jun 21 08:19  Lebanese_Governorates.json\n",
            "-rw-r--r-- 1 root root   640 Jun 21 08:19  LebanonPopulation.csv\n",
            "drwxr-xr-x 2 root root  4.0K Jun 21 08:19 'Lebanon Shapefile'\n",
            "-rw-r--r-- 1 root root    55 Jun 21 08:19  purchases.csv\n",
            "-rw-r--r-- 1 root root  9.7K Jun 21 08:19  purchases.xlsx\n",
            "-rw-r--r-- 1 root root   34K Jun 21 08:36  SimpleDietProblem.lp\n",
            "-rw-r--r-- 1 root root   57K Jun 21 08:19  stockPrices.csv\n",
            "-rw-r--r-- 1 root root  948K Jun 21 08:19  WA_Fn-UseC_-Telco-Customer-Churn.csv\n"
          ],
          "name": "stdout"
        }
      ]
    },
    {
      "cell_type": "markdown",
      "metadata": {
        "id": "gSVqZhdOeqKn",
        "colab_type": "text"
      },
      "source": [
        "#1: Initiate your first map\n",
        "\n",
        "\n",
        "\n",
        "to do so, you should:\n",
        "*   Import mapping library (folium)\n",
        "* Define a variable to store the map in\n",
        "* use the Folium.Map() Function\n",
        "* choose basemap choose from [basemaps=['openstreetmap','Mapbox Control Room','stamenterrain','stamentoner','cartodbdark_matter']]\n",
        "* choose an initial center Lat, Long\n",
        "* choose an initial zoom level\n",
        "*   Initiate map \n",
        "\n"
      ]
    },
    {
      "cell_type": "code",
      "metadata": {
        "id": "DWTH0jmNxH77",
        "colab_type": "code",
        "colab": {}
      },
      "source": [
        "### Insert your code here\n",
        "\n",
        "## to initiate a map in folium use function folium.Map(location=[lat,long],zoom_start=INTEGER, tiles = Type of basemap as a string)\n",
        "\n",
        "\n",
        "\n"
      ],
      "execution_count": 0,
      "outputs": []
    },
    {
      "cell_type": "code",
      "metadata": {
        "id": "T70a2R1Jeplb",
        "colab_type": "code",
        "colab": {}
      },
      "source": [
        "## Import folim library \n",
        "  \n",
        "import folium\n",
        "### Sample of vailable basemaps of Available Basemaps\n",
        "\n",
        "basemaps=['openstreetmap','Mapbox Control Room','stamenterrain','stamentoner','cartodbdark_matter']\n",
        "\n",
        "\n",
        "First_Map= folium.Map(location=[51.482691,-0.003012],zoom_start=1,tiles=basemaps[3])\n",
        "First_Map"
      ],
      "execution_count": 0,
      "outputs": []
    },
    {
      "cell_type": "markdown",
      "metadata": {
        "id": "XMgzLEeT5nvV",
        "colab_type": "text"
      },
      "source": [
        "#  2: Basic Mapping"
      ]
    },
    {
      "cell_type": "markdown",
      "metadata": {
        "id": "3GmccLrfUIBL",
        "colab_type": "text"
      },
      "source": [
        "Basic mapping excercises include plotting a point or a pin on a map\n",
        "\n",
        "\n",
        "1.   Use Folium Library\n",
        "2.   Map the locaiton of Crowne Plaza by adding its Latitude and Longitude\n",
        "\n",
        "Latitude = 33.895834\n",
        "Longitude = 35.479522\n",
        "\n",
        "* Note: use an initial zoom level of 9, and any basemap of your choice\n",
        "\n"
      ]
    },
    {
      "cell_type": "code",
      "metadata": {
        "scrolled": true,
        "id": "PApLWKa35nvZ",
        "colab_type": "code",
        "colab": {}
      },
      "source": [
        "## Start your code here\n",
        "\n",
        "\n",
        "## use latitude = 33.895834 and longitude = 35.479522, with a zoom level = 9, and any basemap of your choice\n",
        "\n",
        "\n",
        "\n",
        "## a simple circle marker can be added using folium.CircleMarker(location=(lat,long), color= HEX CODE). add_to(your map)"
      ],
      "execution_count": 0,
      "outputs": []
    },
    {
      "cell_type": "code",
      "metadata": {
        "id": "Dz6upzWHXZ-J",
        "colab_type": "code",
        "colab": {}
      },
      "source": [
        "## Define basemap\n",
        "import folium\n",
        "\n",
        "# brightBasemap= 'Mapbox Bright'\n",
        "brightBasemap= 'stamentoner'\n",
        "\n",
        "latitude = 33.895834\n",
        "longitude = 35.479522\n",
        "## Initiate Map\n",
        "CrownePlaza = folium.Map(location=[latitude,longitude],zoom_start=9,tiles=brightBasemap)\n",
        "## Folium function to add a marker\n",
        "\n",
        "folium.CircleMarker(location=(latitude,longitude),color=\"#41C827\",fill=True).add_to(CrownePlaza)\n",
        "\n",
        "## Retrun Map\n",
        "CrownePlaza"
      ],
      "execution_count": 0,
      "outputs": []
    },
    {
      "cell_type": "code",
      "metadata": {
        "id": "W9Ulv3mwx-jE",
        "colab_type": "code",
        "colab": {}
      },
      "source": [
        "## Let us add a label to the point, with the title\"D2D Training Location\"\n",
        "\n",
        "\n",
        "## adding a pop up using folium.CircleMarker(location=(lat,long), color= HEX CODE, popup=POPUP Text as a string). add_to(your map)"
      ],
      "execution_count": 0,
      "outputs": []
    },
    {
      "cell_type": "code",
      "metadata": {
        "id": "4TOQL-UHgmQd",
        "colab_type": "code",
        "colab": {}
      },
      "source": [
        "## Add label to point\n",
        "\n",
        "popup_text = \"D2D Training Location\"\n",
        "folium.CircleMarker(location=(latitude,longitude),color=\"#41C827\",fill=True, popup=popup_text).add_to(CrownePlaza)\n",
        "\n",
        "CrownePlaza"
      ],
      "execution_count": 0,
      "outputs": []
    },
    {
      "cell_type": "code",
      "metadata": {
        "id": "joOUDnOFhXhQ",
        "colab_type": "code",
        "colab": {}
      },
      "source": [
        "### read the code to understand hot to add a Measure control and a different basemap to your map\n",
        "\n",
        "from folium import plugins\n",
        "\n",
        "from folium.plugins import MeasureControl\n",
        "\n",
        "\n",
        "CrownePlaza.add_child(MeasureControl())\n",
        "\n",
        "\n",
        "folium.TileLayer('stamenterrain').add_to(CrownePlaza)\n",
        "\n",
        "folium.TileLayer('cartodbdark_matter').add_to(CrownePlaza)\n",
        "\n",
        "\n",
        "folium.LayerControl().add_to(CrownePlaza)\n",
        "\n",
        "\n",
        "\n",
        "CrownePlaza"
      ],
      "execution_count": 0,
      "outputs": []
    },
    {
      "cell_type": "markdown",
      "metadata": {
        "id": "rlwNWdGdpWof",
        "colab_type": "text"
      },
      "source": [
        "## Now, locate Mindsets Offices using interactive marker tool, and measure the distance between the office and Crowne Plaza\n",
        "\n",
        "\n",
        "# Interactive marker\n",
        "yourMap.add_child(folium.ClickForMarker(popup=\"Mindsets Offices\"))\n"
      ]
    },
    {
      "cell_type": "code",
      "metadata": {
        "id": "3CyHVzH1pJ71",
        "colab_type": "code",
        "colab": {}
      },
      "source": [
        "CrownePlaza.add_child(folium.ClickForMarker(popup=\"Mindsets Offices\"))\n",
        "\n",
        "CrownePlaza"
      ],
      "execution_count": 0,
      "outputs": []
    },
    {
      "cell_type": "markdown",
      "metadata": {
        "id": "5Eeto-szpn4X",
        "colab_type": "text"
      },
      "source": [
        "Finally, save the map as an html webpage"
      ]
    },
    {
      "cell_type": "code",
      "metadata": {
        "id": "1NXNKQz0hkt-",
        "colab_type": "code",
        "colab": {}
      },
      "source": [
        "## Export map to HTML \n",
        "\n",
        "\n",
        "CrownePlaza.save(\"firstMap.html\")"
      ],
      "execution_count": 0,
      "outputs": []
    },
    {
      "cell_type": "markdown",
      "metadata": {
        "id": "jfKP9Jjjnf1S",
        "colab_type": "text"
      },
      "source": [
        "# 3: Real World Application\n",
        "\n",
        "## Exploring accomodation options in Barcelona\n",
        "\n",
        "We will try to implement a basic decision tree model to select the best AirBNB listing in Barcelona by understanding the following:\n",
        "\n",
        "* What are the dense locations in the city ?\n",
        "* How does rental price spatial distriution look like ?\n",
        "* What is the most convenient location to rent at based on user input?\n"
      ]
    },
    {
      "cell_type": "markdown",
      "metadata": {
        "id": "LHb_l2PcfJ3H",
        "colab_type": "text"
      },
      "source": [
        "### Information is stored in Barcelona_Listing_2019.csv\n",
        "\n",
        "\n",
        "* open the CSV file using pandas\n",
        "* explore data by displaying its columns"
      ]
    },
    {
      "cell_type": "code",
      "metadata": {
        "id": "dpfHFhu5zrlh",
        "colab_type": "code",
        "colab": {}
      },
      "source": [
        "## Write your code Below - Make sure to print the head to now about the data"
      ],
      "execution_count": 0,
      "outputs": []
    },
    {
      "cell_type": "code",
      "metadata": {
        "id": "BKtB97ySz3mr",
        "colab_type": "code",
        "colab": {}
      },
      "source": [
        "### Describe the data"
      ],
      "execution_count": 0,
      "outputs": []
    },
    {
      "cell_type": "code",
      "metadata": {
        "id": "XtBgIk_YfHYo",
        "colab_type": "code",
        "colab": {}
      },
      "source": [
        "import pandas as pd \n",
        "\n",
        "Listings=pd.read_csv('Barcelona_Listing_2019.csv')\n",
        "\n",
        "\n",
        "#Listings=pd.read_csv('Barcelona_Listing_2019_Full.csv')\n",
        "\n",
        "Listings.head()\n",
        "\n",
        "\n"
      ],
      "execution_count": 0,
      "outputs": []
    },
    {
      "cell_type": "code",
      "metadata": {
        "id": "Pd1ZN8fiiFw6",
        "colab_type": "code",
        "colab": {}
      },
      "source": [
        "Listings.describe()"
      ],
      "execution_count": 0,
      "outputs": []
    },
    {
      "cell_type": "markdown",
      "metadata": {
        "id": "cjO6jOLchAwQ",
        "colab_type": "text"
      },
      "source": [
        "### Let us map everything\n",
        "\n",
        "* use folium library\n",
        "* use a combination of a for loop and folium.Marker()"
      ]
    },
    {
      "cell_type": "code",
      "metadata": {
        "id": "B6-hr1V5zE2A",
        "colab_type": "code",
        "colab": {}
      },
      "source": [
        "### Do not edit the code below - It will add a visual clustering for the plotted points.\n",
        "import numpy as np\n",
        "import folium\n",
        "from folium.plugins import MarkerCluster\n",
        "\n",
        "\n",
        "\n",
        "\n",
        "## Initate Map\n",
        "\n",
        "## Add Marker Cluster - MarkerCluster().add_to(AirbnbListings)\n",
        "marker_cluster = \n",
        "\n",
        "\n",
        "\n",
        "### add atooltip to show price when hovering over it\n",
        "\n",
        "\n",
        "\n",
        "\n",
        "\n",
        "#### add a for loop to plot all latitude/longitude of locations\n",
        "\n"
      ],
      "execution_count": 0,
      "outputs": []
    },
    {
      "cell_type": "code",
      "metadata": {
        "id": "-LtKL_Kbg_oz",
        "colab_type": "code",
        "colab": {}
      },
      "source": [
        "\n",
        "### Do not edit the code below - It will add a visual clustering for the plotted points.\n",
        "import numpy as np\n",
        "import folium\n",
        "from folium.plugins import MarkerCluster\n",
        "\n",
        "\n",
        "## Initate Map\n",
        "AirbnbListings= folium.Map(location=[np.average(Listings[\"latitude\"]),np.average(Listings[\"longitude\"])],zoom_start=9,tiles='cartodbdark_matter')\n",
        "\n",
        "## Add Marker Cluster\n",
        "marker_cluster = MarkerCluster().add_to(AirbnbListings)\n",
        "\n",
        "\n",
        "\n",
        "### add atooltip to show price when hovering over it - tooltip='Price: {}'.format(Listings[\"price\"][i])\n",
        "\n",
        "\n",
        "#### add a for loop to plot all latitude/longitude of locations\n",
        "\n",
        "for i in range(0,len(Listings)):\n",
        "    folium.Marker([Listings[\"latitude\"][i],Listings[\"longitude\"][i]], tooltip='Price: {}'.format(Listings[\"price\"][i])).add_to(marker_cluster)\n",
        "\n",
        "\n",
        "AirbnbListings"
      ],
      "execution_count": 0,
      "outputs": []
    },
    {
      "cell_type": "markdown",
      "metadata": {
        "id": "vGbfVdWpvC9-",
        "colab_type": "text"
      },
      "source": [
        "### lets explore a heat map of locations"
      ]
    },
    {
      "cell_type": "code",
      "metadata": {
        "id": "ahwfMx4z0d3j",
        "colab_type": "code",
        "colab": {}
      },
      "source": [
        "### create a heatmap to understand the density of listing distribution - Use Folium Plugin  folium.plugins.HeatMap(Locaitons).add_to(YourHeatMap)\n"
      ],
      "execution_count": 0,
      "outputs": []
    },
    {
      "cell_type": "code",
      "metadata": {
        "id": "HMoyea4rt1Ak",
        "colab_type": "code",
        "colab": {}
      },
      "source": [
        "\n",
        "\n",
        "HeatMapPrices=folium.Map(location=[np.average(Listings[\"latitude\"]),np.average(Listings[\"longitude\"])],zoom_start=9,tiles='cartodbdark_matter')\n",
        "\n",
        "folium.plugins.HeatMap([[Listings[\"latitude\"][i],Listings[\"longitude\"][i]] for i in range (0,len(Listings))]).add_to(HeatMapPrices)\n",
        "\n",
        "\n",
        "HeatMapPrices"
      ],
      "execution_count": 0,
      "outputs": []
    },
    {
      "cell_type": "code",
      "metadata": {
        "id": "6ehpn_5OpYXW",
        "colab_type": "code",
        "colab": {}
      },
      "source": [
        "### Let get to our listing !\n",
        "\n",
        "\n",
        "### Define a variable function \"numberOfGuests\" that takes input from the user \n",
        "numberOfGuests=input(\"Please enter the number of Guests\")\n",
        "\n",
        "\n",
        "\n",
        "print ('NOTE THAT INPUT FUNCTION READS AND RETURNS STRINGS')"
      ],
      "execution_count": 0,
      "outputs": []
    },
    {
      "cell_type": "code",
      "metadata": {
        "id": "YOZdd7Fg-eO7",
        "colab_type": "code",
        "colab": {}
      },
      "source": [
        "### now define input variables for the following \n",
        "\n",
        "# Minimum Acceptable Rating\n",
        "\n",
        "minimumAcceptableRating\n",
        "\n",
        "## Trip Durations (in Days)\n",
        "tripDurationInDays\n",
        "\n",
        "## Budget Per Night\n",
        "\n",
        "budgetPerNight"
      ],
      "execution_count": 0,
      "outputs": []
    },
    {
      "cell_type": "code",
      "metadata": {
        "id": "xLHfhNjj-eNG",
        "colab_type": "code",
        "colab": {}
      },
      "source": [
        "### Define a variable function \"minimumAcceptableRating\" that takes input from the user\n",
        "minimumAcceptableRating=input(\"Please enter the mimum acceptable rating (scale from 0 to 100)\")\n",
        "\n",
        "### Define a variable function \"tripDurationInDays\" that takes input from the user\n",
        "\n",
        "tripDurationInDays=input(\"Enter your trip duration\")\n",
        "\n",
        "### Define a variable function \"budgetPerNight\" that takes input from the user\n",
        "\n",
        "budgetPerNight=input(\"enter average budget per night, this will be adjusted to accomodate + 20% of the price\")"
      ],
      "execution_count": 0,
      "outputs": []
    },
    {
      "cell_type": "markdown",
      "metadata": {
        "id": "n1fnJC6S1iiI",
        "colab_type": "text"
      },
      "source": [
        "## Let us do some data Filteration "
      ]
    },
    {
      "cell_type": "code",
      "metadata": {
        "id": "9s3sxeLD1l7D",
        "colab_type": "code",
        "colab": {}
      },
      "source": [
        "### Remove from Data frame all unwanted listings \n",
        "\n",
        "\n",
        "Listings=Listings[Listings[\"accommodates\"]>=int(numberOfGuests)]\n"
      ],
      "execution_count": 0,
      "outputs": []
    },
    {
      "cell_type": "code",
      "metadata": {
        "id": "WzYjo3LN-eBe",
        "colab_type": "code",
        "colab": {}
      },
      "source": [
        "## write the code for the following\n",
        "\n",
        "## Rating\n",
        "\n",
        "\n",
        "\n",
        "## Minimum & Maximum Stay\n",
        "\n",
        "\n",
        "\n",
        "## Price\n",
        "\n",
        "\n",
        "\n",
        "\n",
        "## check Availability \n"
      ],
      "execution_count": 0,
      "outputs": []
    },
    {
      "cell_type": "code",
      "metadata": {
        "id": "SSw4MLYJ2PFa",
        "colab_type": "code",
        "colab": {}
      },
      "source": [
        "# Rating\n",
        "\n",
        "Listings=Listings[Listings[\"review_scores_rating\"]>=int(minimumAcceptableRating)]\n",
        "\n",
        "\n",
        "## Minimum & Maximum Stay\n",
        "Listings=Listings[Listings[\"maximum_nights\"]>=int(tripDurationInDays)]\n",
        "\n",
        "Listings=Listings[Listings[\"minimum_nights\"]<=int(tripDurationInDays)]\n",
        "\n",
        "\n",
        "## Price\n",
        "Listings=Listings[Listings[\"price\"]<=(1.2*int(budgetPerNight))]\n",
        "\n",
        "\n",
        "## check Availability \n",
        "\n",
        "Listings=Listings[Listings[\"has_availability\"]=='t']\n",
        "\n",
        "\n"
      ],
      "execution_count": 0,
      "outputs": []
    },
    {
      "cell_type": "code",
      "metadata": {
        "id": "Dx2txMNC3OYK",
        "colab_type": "code",
        "colab": {}
      },
      "source": [
        "### Map Shortlisted Listings\n",
        "\n",
        "\n",
        "\n"
      ],
      "execution_count": 0,
      "outputs": []
    },
    {
      "cell_type": "code",
      "metadata": {
        "id": "H8UvCIBE2ifN",
        "colab_type": "code",
        "colab": {}
      },
      "source": [
        "### Let us map short listed listings\n",
        "\n",
        "\n",
        "### Do not edit the code below - It will add a visual clustering for the plotted points.\n",
        "import numpy as np\n",
        "import folium\n",
        "from folium.plugins import MarkerCluster\n",
        "\n",
        "\n",
        "## Initate Map\n",
        "ShortlistedListings= folium.Map(location=[np.average(Listings[\"latitude\"]),np.average(Listings[\"longitude\"])],zoom_start=9,tiles='cartodbdark_matter')\n",
        "\n",
        "## Add Marker Cluster\n",
        "marker_cluster = MarkerCluster().add_to(ShortlistedListings)\n",
        "\n",
        "\n",
        "#### add a for loop to plot all latitude/longitude of locations\n",
        "\n",
        "for index, row in Listings.iterrows():\n",
        "    folium.Marker([row[\"latitude\"],row[\"longitude\"]], tooltip='Price: {}'.format(row[\"price\"])).add_to(marker_cluster)\n",
        "\n",
        "\n",
        "ShortlistedListings\n",
        "\n",
        "\n"
      ],
      "execution_count": 0,
      "outputs": []
    },
    {
      "cell_type": "markdown",
      "metadata": {
        "id": "tsihmGm03bQx",
        "colab_type": "text"
      },
      "source": [
        "## Last Criteria : Proximity to Attraction Points\n",
        "\n",
        "\n",
        "\n",
        "* Sagrada Familia\n",
        "* Park Guell\n",
        "* Barceloneta Beach\n",
        "* Central Bus Station\n",
        "* Camp Nou\n",
        "* La Rambla\n",
        "\n",
        "\n",
        "### Code cell below has three lists, Name, Lat, Long"
      ]
    },
    {
      "cell_type": "code",
      "metadata": {
        "id": "ByZLwA9X2iS_",
        "colab_type": "code",
        "colab": {}
      },
      "source": [
        "### now, we need to choose further priorities - based on attraction points\n",
        "\n",
        "### Attraction Points\n",
        "AttractionPoints=['Sagrada Familia','Park Guell','Barceloneta Beach','Central Bus Station', 'Camp Nou', 'La Rambla' ]\n",
        "\n",
        "### Latitudes\n",
        "Latitudes=[41.403646, 41.414092,41.378038, 41.394677, 41.380751,41.381442 ]\n",
        "### Longitudes\n",
        "Longitudes=[2.173755,2.152383,2.192214,2.182602,2.122809, 2.172712]\n",
        "\n",
        "\n",
        "\n"
      ],
      "execution_count": 0,
      "outputs": []
    },
    {
      "cell_type": "markdown",
      "metadata": {
        "id": "bdptHap14zQA",
        "colab_type": "text"
      },
      "source": [
        "##  Create a dictionary that takes Attraction Points as key, and (lat,long) as values\n",
        "\n",
        "\n",
        "{'Barceloneta Beach': [41.378038, 2.192214],\n",
        " 'Camp Nou': [41.380751, 2.122809],\n",
        " 'Central Bus Station': [41.394677, 2.182602],\n",
        " 'La Rambla': [41.381442, 2.172712],\n",
        " 'Park Guell': [41.414092, 2.152383],\n",
        " 'Sagrada Familia': [41.403646, 2.173755]}\n",
        " \n",
        " \n",
        " "
      ]
    },
    {
      "cell_type": "code",
      "metadata": {
        "id": "7xN7AqSn3_7A",
        "colab_type": "code",
        "colab": {}
      },
      "source": [
        "### Create a dictionary that takes Attraction Points as key, and (lat,long) as values\n"
      ],
      "execution_count": 0,
      "outputs": []
    },
    {
      "cell_type": "code",
      "metadata": {
        "id": "HHA_SLEK4BRt",
        "colab_type": "code",
        "colab": {}
      },
      "source": [
        "### Create a dictionary that takes Attraction Points as key, and (lat,long) as values\n",
        "\n",
        "LocationsDict={z[0]:list(z[1:]) for z in zip(AttractionPoints,Latitudes,Longitudes)}\n",
        "\n",
        "\n",
        "LocationsDict"
      ],
      "execution_count": 0,
      "outputs": []
    },
    {
      "cell_type": "code",
      "metadata": {
        "id": "XH3ijWJj5QVR",
        "colab_type": "code",
        "colab": {}
      },
      "source": [
        "###Define an input function for favorite attraction point\n",
        "\n",
        "favAttractionPoint\n",
        "\n",
        "\n",
        "### define an input function about maximum acceptable buffer distance from attraction point \n"
      ],
      "execution_count": 0,
      "outputs": []
    },
    {
      "cell_type": "code",
      "metadata": {
        "id": "AzEqXL_sd-wk",
        "colab_type": "code",
        "colab": {}
      },
      "source": [
        "###Define an input function for favorite attraction point\n",
        "\n",
        "favAttractionPoint=input ('please input the your favorite attraction point')\n",
        "\n",
        "### define an input function about maximum acceptable buffer distance from attraction point \n",
        "\n",
        "maxBuffDistance=input('Please input max acceptable distance in kms ')"
      ],
      "execution_count": 0,
      "outputs": []
    },
    {
      "cell_type": "markdown",
      "metadata": {
        "id": "BGhG6HZ35dGp",
        "colab_type": "text"
      },
      "source": [
        "### now we will find those listings within the acceptble distance from favorite attraction point\n",
        "\n",
        "We will use haversine distance![alt text](https://upload.wikimedia.org/wikipedia/commons/thumb/3/38/Law-of-haversines.svg/220px-Law-of-haversines.svg.png)\n",
        "\n",
        "\n",
        "\n"
      ]
    },
    {
      "cell_type": "code",
      "metadata": {
        "id": "gDOs4gJq5XI5",
        "colab_type": "code",
        "colab": {}
      },
      "source": [
        "\n",
        "## DO NOT CHANGE FUNCTION\n",
        "from math import radians, cos, sin, asin, sqrt\n",
        "\n",
        "def haversine(lat1, lon1, lat2, lon2):\n",
        "\n",
        "    R =  6372.8 #For Earth radius in kilometers use 6372.8 km\n",
        "    dLat = radians(lat2 - lat1)\n",
        "    dLon = radians(lon2 - lon1)\n",
        "    lat1 = radians(lat1)\n",
        "    lat2 = radians(lat2)\n",
        "    a = sin(dLat/2)**2 + cos(lat1)*cos(lat2)*sin(dLon/2)**2\n",
        "    c = 2*asin(sqrt(a))\n",
        "    return R * c"
      ],
      "execution_count": 0,
      "outputs": []
    },
    {
      "cell_type": "code",
      "metadata": {
        "id": "kuflHuD958H5",
        "colab_type": "code",
        "colab": {}
      },
      "source": [
        " ### now we will find those listings within the acceptble distance from favorite attraction point\n",
        "  \n",
        "Listings"
      ],
      "execution_count": 0,
      "outputs": []
    },
    {
      "cell_type": "code",
      "metadata": {
        "id": "Ki9t-Jfu6DRG",
        "colab_type": "code",
        "colab": {}
      },
      "source": [
        "### now we will find those listings within the acceptble distance from favorite attraction point\n",
        "import numpy as np\n",
        "\n",
        "lat=LocationsDict[favAttractionPoint][0]\n",
        "long=LocationsDict[favAttractionPoint][1]\n",
        "\n",
        "\n",
        "#### check how to drop a row instead of making a finalist names\n",
        "\n",
        "\n",
        "\n",
        "for index, row in Listings.iterrows():\n",
        "    distance = haversine (lat,long,row[\"latitude\"],row[\"longitude\"])\n",
        "    if distance > int(maxBuffDistance):\n",
        "      Listings.drop(Listings.index())\n",
        "          \n",
        "    \n",
        "    \n",
        "Listings\n",
        "    \n",
        "\n",
        "        \n",
        "        \n",
        "        \n",
        "        \n"
      ],
      "execution_count": 0,
      "outputs": []
    },
    {
      "cell_type": "code",
      "metadata": {
        "id": "MjBwv2xk6po6",
        "colab_type": "code",
        "colab": {}
      },
      "source": [
        "\n",
        "\n",
        "\n",
        "### Let us map short listed listings\n",
        "\n",
        "\n",
        "### Do not edit the code below - It will add a visual clustering for the plotted points.\n",
        "import numpy as np\n",
        "import folium\n",
        "from folium.plugins import MarkerCluster\n",
        "\n",
        "\n",
        "## Initate Map\n",
        "FinalListings= folium.Map(location=[np.average(Listings[\"latitude\"]),np.average(Listings[\"longitude\"])],zoom_start=9,tiles='cartodbdark_matter')\n",
        "\n",
        "## Add Marker Cluster\n",
        "marker_cluster = MarkerCluster().add_to(FinalListings)\n",
        "\n",
        "\n",
        "#### add a for loop to plot all latitude/longitude of locations\n",
        "\n",
        "for index, row in Listings.iterrows():\n",
        "    folium.Marker([row[\"latitude\"],row[\"longitude\"]], tooltip='Price: {}'.format(row[\"price\"])).add_to(marker_cluster)\n",
        "\n",
        "\n",
        "folium.Marker([LocationsDict[favAttractionPoint][0], LocationsDict[favAttractionPoint][1]], popup=favAttractionPoint).add_to(FinalListings)\n",
        "\n",
        "\n",
        "\n",
        "    \n",
        "FinalListings\n",
        "\n",
        "\n",
        "\n"
      ],
      "execution_count": 0,
      "outputs": []
    }
  ]
}