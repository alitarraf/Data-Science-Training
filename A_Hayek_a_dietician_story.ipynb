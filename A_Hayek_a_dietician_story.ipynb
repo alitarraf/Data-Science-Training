{
  "nbformat": 4,
  "nbformat_minor": 0,
  "metadata": {
    "colab": {
      "name": "A-Hayek-a-dietician-story.ipynb",
      "version": "0.3.2",
      "provenance": [],
      "include_colab_link": true
    },
    "language_info": {
      "codemirror_mode": {
        "name": "ipython",
        "version": 3
      },
      "file_extension": ".py",
      "mimetype": "text/x-python",
      "name": "python",
      "nbconvert_exporter": "python",
      "pygments_lexer": "ipython3",
      "version": "3.6.2"
    },
    "kernelspec": {
      "display_name": "Python 3",
      "language": "python",
      "name": "python3"
    }
  },
  "cells": [
    {
      "cell_type": "markdown",
      "metadata": {
        "id": "view-in-github",
        "colab_type": "text"
      },
      "source": [
        "<a href=\"https://colab.research.google.com/github/alitarraf/Data-Science-Training/blob/master/A_Hayek_a_dietician_story.ipynb\" target=\"_parent\"><img src=\"https://colab.research.google.com/assets/colab-badge.svg\" alt=\"Open In Colab\"/></a>"
      ]
    },
    {
      "cell_type": "markdown",
      "metadata": {
        "id": "UxIuMmY_H_u3",
        "colab_type": "text"
      },
      "source": [
        "# Linear and discrete programming optimization\n",
        "\n",
        "## Introduction \n",
        "Discrete optimization is a branch of optimization methodology which deals with discrete quantities i.e. non-continuous functions. It is quite ubiquitous in as diverse applications such as financial investment, diet planning, manufacturing processes, and player or schedule selection for professional sports.\n",
        "\n",
        "Linear and (mixed) integer programming are techniques to solve problems which can be formulated within the framework of discrete optimization.\n",
        "\n",
        "Knowledge of such optimization techniques is extremely useful for data scientists and machine learning (ML) practitioners as discrete and continuous optimization lie at the heart of modern ML and AI systems as well as data-driven business analytics processes.\n",
        "\n",
        "    There are many commercial optimizer tools, but having hands-on experience with a programmatic way of doing optimization is invaluable.\n",
        "\n",
        "There is a long and rich history of the theoretical development of robust and efficient solvers for optimization problems. However, focusing on practical applications, we will skip that history and move straight to the part of learning how to use programmatic tools to formulate and solve such optimization problems.\n",
        "\n",
        "There are many excellent optimization packages in Python. In this article, we will specifically talk about PuLP. But before going to the Python library, let us get a sense of the kind of problem we can solve with it.\n"
      ]
    },
    {
      "cell_type": "markdown",
      "metadata": {
        "id": "MnXsUW-hIBy4",
        "colab_type": "text"
      },
      "source": [
        "## Introduction to Linear Programming with Pulp\n",
        "In this notebook we will be looking at some linear programming problems and how we can construct and solve these problems using the python linear programming package PuLP.\n",
        "\n",
        "Let’s start with a simple example:\n",
        "\n",
        "We want to find the maximum solution to:\n",
        "\n",
        "\\begin{equation}\n",
        "Z=4x+3y\n",
        "\\end{equation}\n",
        "\n",
        "This is known as our objective function. x and y in this equation are our decision variables.\n",
        "\n",
        "In this example, the objective function is subject to the following constraints:\n",
        "\n",
        "\\begin{equation}\n",
        "x≥0 \\\\\n",
        "y≥2 \\\\\n",
        "2y≤25–x \\\\\n",
        "4y≥2x–8 \\\\\n",
        "y≤2x−5 \\\\\n",
        "\\end{equation}\n",
        "\n",
        "We will begin by visualizing the problem."
      ]
    },
    {
      "cell_type": "code",
      "metadata": {
        "id": "lHDowPvUIKX5",
        "colab_type": "code",
        "colab": {
          "base_uri": "https://localhost:8080/",
          "height": 50
        },
        "outputId": "ecce5ba3-88c7-46d5-933c-ec5fd6323bcd"
      },
      "source": [
        "# Loading libraries for array computations (Numpy) and for plotting (Matplotlib)\n",
        "import numpy as np\n",
        "import matplotlib.pyplot as plt\n",
        "import pandas as pd\n",
        "# Loading libraries\n",
        "!pip install pulp\n",
        "from pulp import *"
      ],
      "execution_count": 1,
      "outputs": [
        {
          "output_type": "stream",
          "text": [
            "Requirement already satisfied: pulp in /usr/local/lib/python3.6/dist-packages (1.6.10)\n",
            "Requirement already satisfied: pyparsing>=2.0.1 in /usr/local/lib/python3.6/dist-packages (from pulp) (2.4.0)\n"
          ],
          "name": "stdout"
        }
      ]
    },
    {
      "cell_type": "code",
      "metadata": {
        "colab_type": "code",
        "id": "lUNKcoUlKQUP",
        "colab": {}
      },
      "source": [
        "# Construct lines\n",
        "# x > 0\n",
        "x = np.linspace(0, 20, 2000)\n",
        "# y >= 2\n",
        "y1 = (x*0) + 2\n",
        "# 2y <= 25 - x\n",
        "y2 = (25-x)/2.0\n",
        "# 4y >= 2x - 8 \n",
        "y3 = (2*x-8)/4.0\n",
        "# y <= 2x - 5 \n",
        "y4 = 2 * x -5"
      ],
      "execution_count": 0,
      "outputs": []
    },
    {
      "cell_type": "code",
      "metadata": {
        "id": "IDN0oLHcINUz",
        "colab_type": "code",
        "colab": {}
      },
      "source": [
        ""
      ],
      "execution_count": 0,
      "outputs": []
    },
    {
      "cell_type": "code",
      "metadata": {
        "id": "pgGxXoXWIUOJ",
        "colab_type": "code",
        "colab": {
          "base_uri": "https://localhost:8080/",
          "height": 300
        },
        "outputId": "7455a100-198d-4d5e-aa51-78dc7835857d"
      },
      "source": [
        "# Make plot\n",
        "plt.plot(x, y1, label=r'$y\\geq2$')\n",
        "plt.plot(x, y2, label=r'$2y\\leq25-x$')\n",
        "plt.plot(x, y3, label=r'$4y\\geq 2x - 8$')\n",
        "plt.plot(x, y4, label=r'$y\\leq 2x-5$')\n",
        "plt.xlim((0, 16))\n",
        "plt.ylim((0, 11))\n",
        "plt.xlabel(r'$x$')\n",
        "plt.ylabel(r'$y$')\n",
        "\n",
        "# Fill feasible region\n",
        "y5 = np.minimum(y2, y4)\n",
        "y6 = np.maximum(y1, y3)\n",
        "plt.fill_between(x, y5, y6, where=y5>y6, color='grey', alpha=0.5)\n",
        "plt.legend(bbox_to_anchor=(1.05, 1), loc=2, borderaxespad=0.)"
      ],
      "execution_count": 3,
      "outputs": [
        {
          "output_type": "execute_result",
          "data": {
            "text/plain": [
              "<matplotlib.legend.Legend at 0x7f3e7bc3d978>"
            ]
          },
          "metadata": {
            "tags": []
          },
          "execution_count": 3
        },
        {
          "output_type": "display_data",
          "data": {
            "image/png": "[encoded data removed]",
            "text/plain": [
              "<Figure size 432x288 with 1 Axes>"
            ]
          },
          "metadata": {
            "tags": []
          }
        }
      ]
    },
    {
      "cell_type": "markdown",
      "metadata": {
        "id": "mNRouWCGIag7",
        "colab_type": "text"
      },
      "source": [
        "## Our solution lies somewhere in the grey feasible region in the graph above.\n",
        "\n",
        "It has been proven that the minima and maxima of linear programming problems lie at the vertices of the feasible region. In this example, there are only 4 corners to our feasible region, so we can find the solutions for each corner to find our maximum.\n",
        "\n",
        "The four corners are between the lines 1 and 2. Solving the inequalities at the intersections, yields the following x, y value and the coresponding Z value. \n",
        "\n",
        "\\begin{array}{ccc}\n",
        "Line 1& Line 2& Intersection(x,y)& Z-value \\\\\n",
        "y>2&4y>2x-8&8,2&38\\\\\n",
        "2y<25-x&y<2x-5&7,9&55 \\\\\n",
        "2y<25-x&4y>2x-8&14.5,5.25&73.75 \\\\\n",
        "y>2&y<2x-5&3.5,2&20 \\\\\n",
        "\\end{array}\n",
        "\n",
        "We have successfully calculated that the maximum value **for Z is 73.75, when x is 14.5 and y is 5.25.**\n",
        "\n",
        "\n",
        "This method of testing every vertex is only feasible for a small number of variables and constraints.\n",
        "As the numbers of constraints and variables increase, it becomes far more difficult to graph these problems and work out all the vertices.\n",
        "For example, if there were a third variable:\n",
        "\\begin{equation}\n",
        "Z=Ax+By+Cz\n",
        "\\end{equation}\n",
        "\n",
        "We would have to graph in three dimensions (x, y and z).\n",
        "\n",
        "Question: ***What if the problem was not linear Z = 4x+3y but a CONVEX optimization like Z = 4x^3+y^2?***\n",
        "\n",
        "Next, we’ll take a look at how we can use python and the PuLP package to solve this linear programming problem, as well as some more complex problems"
      ]
    },
    {
      "cell_type": "code",
      "metadata": {
        "id": "EO7E1iyjIjwf",
        "colab_type": "code",
        "colab": {}
      },
      "source": [
        "#Then instantiate a problem class, we’ll name it “My LP problem” and we’re looking for an optimal maximum so we use LpMaximize\n",
        "\n",
        "my_lp_problem = pulp.LpProblem(\"My LP Problem\", pulp.LpMaximize)"
      ],
      "execution_count": 0,
      "outputs": []
    },
    {
      "cell_type": "code",
      "metadata": {
        "id": "Lwwm9dsiImY3",
        "colab_type": "code",
        "colab": {}
      },
      "source": [
        "#We then model our decision variables using the LpVariable class. In our example, x had a lower bound of 0 and y had a lower bound of 2.\n",
        "#Upper bounds can be assigned using the upBound parameter.\n",
        "\n",
        "x = pulp.LpVariable('x', lowBound=0, cat='Continuous')\n",
        "y = pulp.LpVariable('y', lowBound=2, cat='Continuous')"
      ],
      "execution_count": 0,
      "outputs": []
    },
    {
      "cell_type": "code",
      "metadata": {
        "id": "ElHtH3OnIpVN",
        "colab_type": "code",
        "colab": {}
      },
      "source": [
        "#The objective function and constraints are added using the += operator to our model.\n",
        "#The objective function is added first, then the individual constraints.\n",
        "\n",
        "# Objective function\n",
        "my_lp_problem += 4 * x + 3 * y, \"Z\"\n",
        "\n",
        "# Constraints\n",
        "my_lp_problem += 2 * y <= 25 - x\n",
        "my_lp_problem += 4 * y >= 2 * x - 8\n",
        "my_lp_problem += y <= 2 * x - 5"
      ],
      "execution_count": 0,
      "outputs": []
    },
    {
      "cell_type": "code",
      "metadata": {
        "id": "fwaSmxJNIqSv",
        "colab_type": "code",
        "colab": {
          "base_uri": "https://localhost:8080/",
          "height": 235
        },
        "outputId": "cdf1b516-ffba-48be-9837-4d5291225cd6"
      },
      "source": [
        "#We have now constructed our problem and can have a look at it.\n",
        "my_lp_problem"
      ],
      "execution_count": 7,
      "outputs": [
        {
          "output_type": "execute_result",
          "data": {
            "text/plain": [
              "My LP Problem:\n",
              "MAXIMIZE\n",
              "4*x + 3*y + 0\n",
              "SUBJECT TO\n",
              "_C1: x + 2 y <= 25\n",
              "\n",
              "_C2: - 2 x + 4 y >= -8\n",
              "\n",
              "_C3: - 2 x + y <= -5\n",
              "\n",
              "VARIABLES\n",
              "x Continuous\n",
              "2 <= y Continuous"
            ]
          },
          "metadata": {
            "tags": []
          },
          "execution_count": 7
        }
      ]
    },
    {
      "cell_type": "markdown",
      "metadata": {
        "id": "8ln95kgnI6a-",
        "colab_type": "text"
      },
      "source": [
        "PuLP supports open source linear programming solvers such as CBC and GLPK, as well as commercial solvers such as Gurobi and IBM’s CPLEX.\n",
        "\n",
        "The default solver is CBC, which comes packaged with PuLP upon installation.\n",
        "\n",
        "For most applications, the open source CBC from COIN-OR will be enough for most simple linear programming optimisation algorithms.\n"
      ]
    },
    {
      "cell_type": "code",
      "metadata": {
        "id": "li6BNDjhI-BS",
        "colab_type": "code",
        "colab": {
          "base_uri": "https://localhost:8080/",
          "height": 34
        },
        "outputId": "a98ce04c-74c9-4cdb-fe94-571355293cfa"
      },
      "source": [
        "# Let's solve the problem now.\n",
        "my_lp_problem.solve()\n",
        "pulp.LpStatus[my_lp_problem.status]"
      ],
      "execution_count": 8,
      "outputs": [
        {
          "output_type": "execute_result",
          "data": {
            "text/plain": [
              "'Optimal'"
            ]
          },
          "metadata": {
            "tags": []
          },
          "execution_count": 8
        }
      ]
    },
    {
      "cell_type": "markdown",
      "metadata": {
        "id": "aZkkpZdUJBq1",
        "colab_type": "text"
      },
      "source": [
        "We have also checked the status of the solver, there are 5 status codes:\n",
        "\n",
        "1. Optimal: An optimal solution has been found.\n",
        "2. Infeasible: There are no feasible solutions (e.g. if you set the constraints x <= 1 and x >=2).\n",
        "3. Unbounded: The constraints are not bounded, maximising the solution will tend towards infinity (e.g. if the only constraint was x >= 3).\n",
        "4. Undefined: The optimal solution may exist but may not have been found.\n",
        "\n",
        "\n",
        "We can now view our maximal variable values and the maximum value of Z.\n",
        "\n",
        "We can use the varValue method to retrieve the values of our variables x and y, and the pulp.value function to view the maximum value of the objective function.\n"
      ]
    },
    {
      "cell_type": "code",
      "metadata": {
        "id": "7QvJC5sjK5Vr",
        "colab_type": "code",
        "colab": {
          "base_uri": "https://localhost:8080/",
          "height": 50
        },
        "outputId": "ec8a11b8-2947-4880-c7fe-43a6e718887e"
      },
      "source": [
        "for variable in my_lp_problem.variables():\n",
        "    print (\"{} = {}\".format(variable.name, variable.varValue))"
      ],
      "execution_count": 9,
      "outputs": [
        {
          "output_type": "stream",
          "text": [
            "x = 14.5\n",
            "y = 5.25\n"
          ],
          "name": "stdout"
        }
      ]
    },
    {
      "cell_type": "code",
      "metadata": {
        "id": "YdHsI_pfK9X7",
        "colab_type": "code",
        "colab": {
          "base_uri": "https://localhost:8080/",
          "height": 34
        },
        "outputId": "a3ade1d4-d470-4f9e-84a1-5c22258798d1"
      },
      "source": [
        "print (pulp.value(my_lp_problem.objective))"
      ],
      "execution_count": 10,
      "outputs": [
        {
          "output_type": "stream",
          "text": [
            "73.75\n"
          ],
          "name": "stdout"
        }
      ]
    },
    {
      "cell_type": "markdown",
      "metadata": {
        "id": "68T3xLAeLD_j",
        "colab_type": "text"
      },
      "source": [
        "Same values as our manual calculations.\n",
        "In the next part we’ll be looking at a more real world problem."
      ]
    },
    {
      "cell_type": "markdown",
      "metadata": {
        "id": "audiYRujLmgT",
        "colab_type": "text"
      },
      "source": [
        "# Your turn\n",
        "Your turn now to set up and solve this linear optimization problem.\n",
        "\n",
        "We want to find the maximum solution to:\n",
        "\n",
        "\\begin{equation}\n",
        "Z=x+y\n",
        "\\end{equation}\n",
        "\n",
        "This is known as our objective function. x and y in this equation are our decision variables.\n",
        "\n",
        "In this example, the objective function is subject to the following constraints:\n",
        "\n",
        "\\begin{equation}\n",
        "x≥0 \\\\\n",
        "y≥2 \\\\\n",
        "2y≤25–x \\\\\n",
        "4y≥2x–8 \\\\\n",
        "y≤2x−5 \\\\\n",
        "\\end{equation}\n",
        "\n"
      ]
    },
    {
      "cell_type": "code",
      "metadata": {
        "id": "PsqaqZrcMYPi",
        "colab_type": "code",
        "colab": {}
      },
      "source": [
        "# Start here, copy paste code from above"
      ],
      "execution_count": 0,
      "outputs": []
    },
    {
      "cell_type": "markdown",
      "metadata": {
        "id": "6Ff8Kbt9LJ4u",
        "colab_type": "text"
      },
      "source": [
        "\n",
        "## The case of A.Hayek, a dietecian at AUBMC\n",
        "\n",
        "Suppose Ali Hayek is in charge of the diet plan for American University of Beirut Medical Center patients lunch. His job is to make sure that the patients get the right balance of nutrition from the chosen food.\n",
        "\n",
        "![alt text](https://cdn-images-1.medium.com/max/1600/1*klU9NCgMi8ku1KOBTC4LDg.jpeg)\n",
        "\n",
        "However, there are some restrictions in terms of budget and the variety of food that needs to be in the diet to make it interesting. The following table shows, in detail, the complete nutritional value for each food item, and their maximum/minimum daily intake.\n",
        "\n",
        "![alt text](https://cdn-images-1.medium.com/max/2400/1*PcTMfjIAhqDiBPW6e0Jr9g.png)\n",
        "\n",
        " **The discrete optimization problem is simple: Minimize the cost of the lunch given these constraints (on total calories but also on each of the nutritional component e.g. cholesterol, vitamin A, calcium, etc.**\n",
        " \n",
        " You can imagine that this kind of problem may pop up in business strategy extremely frequently. Instead of nutritional values, you will have profits and other types of business yields, and in place of price/serving, you may have project costs in thousands of dollars. As a manager, your job will be to choose the projects, that give maximum return on investment without exceeding a total budget of funding the project.\n",
        " \n",
        " ![alt text](https://cdn-images-1.medium.com/max/1600/1*zlwHunqFOM7N-pHShmlUGA.jpeg)"
      ]
    },
    {
      "cell_type": "markdown",
      "metadata": {
        "id": "5TACwSb2LSMn",
        "colab_type": "text"
      },
      "source": [
        "### Read the given nutrition dataset into a Pandas DataFrame object\n",
        "Note we are reading only the first 64 rows with `nrows=64` argument because we just want to read all the nutrients information and not the maximum/minimum bounds in the dataset. We will enter those bounds in the optimization problem separately."
      ]
    },
    {
      "cell_type": "code",
      "metadata": {
        "id": "At7VyUvxHjCq",
        "colab_type": "code",
        "colab": {
          "base_uri": "https://localhost:8080/",
          "height": 319
        },
        "outputId": "4ca24d57-5227-448a-c9aa-24e83d9120c9"
      },
      "source": [
        "# Download the data\n",
        "!git clone https://github.com/alitarraf/Data-Science-Training.git # download data from Github\n",
        "%cd \"Data-Science-Training/data\"\n",
        "!ls -lah  # list files in current directory"
      ],
      "execution_count": 11,
      "outputs": [
        {
          "output_type": "stream",
          "text": [
            "fatal: destination path 'Data-Science-Training' already exists and is not an empty directory.\n",
            "/content/Data-Science-Training/data\n",
            "total 12M\n",
            "drwxr-xr-x 3 root root  4.0K Jun 21 08:20  .\n",
            "drwxr-xr-x 5 root root  4.0K Jun 21 08:19  ..\n",
            "-rw-r--r-- 1 root root   18K Jun 21 08:19  Admission_Predict_Ver1.2.csv\n",
            "-rw-r--r-- 1 root root  8.8M Jun 21 08:19  Barcelona_Listing_2019.csv\n",
            "-rw-r--r-- 1 root root   31K Jun 21 08:19 'diet - medium.xls'\n",
            "-rw-r--r-- 1 root root   39K Jun 21 08:19  diet.xls\n",
            "-rw-r--r-- 1 root root  302K Jun 21 08:19  IMDB-Movie-Data.csv\n",
            "-rw-r--r-- 1 root root 1004K Jun 21 08:19  Lebanese_Governorates.json\n",
            "-rw-r--r-- 1 root root   640 Jun 21 08:19  LebanonPopulation.csv\n",
            "drwxr-xr-x 2 root root  4.0K Jun 21 08:19 'Lebanon Shapefile'\n",
            "-rw-r--r-- 1 root root    55 Jun 21 08:19  purchases.csv\n",
            "-rw-r--r-- 1 root root  9.7K Jun 21 08:19  purchases.xlsx\n",
            "-rw-r--r-- 1 root root   34K Jun 21 08:20  SimpleDietProblem.lp\n",
            "-rw-r--r-- 1 root root   57K Jun 21 08:19  stockPrices.csv\n",
            "-rw-r--r-- 1 root root  948K Jun 21 08:19  WA_Fn-UseC_-Telco-Customer-Churn.csv\n"
          ],
          "name": "stdout"
        }
      ]
    },
    {
      "cell_type": "markdown",
      "metadata": {
        "id": "AgLQByVqDIX0",
        "colab_type": "text"
      },
      "source": [
        "### Read the given nutrition dataset into a Pandas DataFrame object\n",
        "Note we are reading only the first 64 rows with `nrows=64` argument because we just want to read all the nutrients informtion and not the maximum/minimum bounds in the dataset. We will enter those bounds in the optimization problem separately."
      ]
    },
    {
      "cell_type": "code",
      "metadata": {
        "id": "qrmBD9IuDIX3",
        "colab_type": "code",
        "colab": {}
      },
      "source": [
        "df = pd.read_excel(\"diet.xls\",nrows=64)"
      ],
      "execution_count": 0,
      "outputs": []
    },
    {
      "cell_type": "markdown",
      "metadata": {
        "id": "6z4_HA0uDIX_",
        "colab_type": "text"
      },
      "source": [
        "### Show first 5 rows of the dataset"
      ]
    },
    {
      "cell_type": "code",
      "metadata": {
        "id": "a6D1H3ZADIYB",
        "colab_type": "code",
        "colab": {
          "base_uri": "https://localhost:8080/",
          "height": 229
        },
        "outputId": "d10f726c-3224-40d0-e98f-9cccd8f9b6d9"
      },
      "source": [
        "df.head()"
      ],
      "execution_count": 13,
      "outputs": [
        {
          "output_type": "execute_result",
          "data": {
            "text/html": [
              "<div>\n",
              "<style scoped>\n",
              "    .dataframe tbody tr th:only-of-type {\n",
              "        vertical-align: middle;\n",
              "    }\n",
              "\n",
              "    .dataframe tbody tr th {\n",
              "        vertical-align: top;\n",
              "    }\n",
              "\n",
              "    .dataframe thead th {\n",
              "        text-align: right;\n",
              "    }\n",
              "</style>\n",
              "<table border=\"1\" class=\"dataframe\">\n",
              "  <thead>\n",
              "    <tr style=\"text-align: right;\">\n",
              "      <th></th>\n",
              "      <th>Foods</th>\n",
              "      <th>Price/ Serving</th>\n",
              "      <th>Serving Size</th>\n",
              "      <th>Calories</th>\n",
              "      <th>Cholesterol mg</th>\n",
              "      <th>Total_Fat g</th>\n",
              "      <th>Sodium mg</th>\n",
              "      <th>Carbohydrates g</th>\n",
              "      <th>Dietary_Fiber g</th>\n",
              "      <th>Protein g</th>\n",
              "      <th>Vit_A IU</th>\n",
              "      <th>Vit_C IU</th>\n",
              "      <th>Calcium mg</th>\n",
              "      <th>Iron mg</th>\n",
              "    </tr>\n",
              "  </thead>\n",
              "  <tbody>\n",
              "    <tr>\n",
              "      <th>0</th>\n",
              "      <td>Frozen Broccoli</td>\n",
              "      <td>0.16</td>\n",
              "      <td>10 Oz Pkg</td>\n",
              "      <td>73.8</td>\n",
              "      <td>0.0</td>\n",
              "      <td>0.8</td>\n",
              "      <td>68.2</td>\n",
              "      <td>13.6</td>\n",
              "      <td>8.5</td>\n",
              "      <td>8.0</td>\n",
              "      <td>5867.4</td>\n",
              "      <td>160.2</td>\n",
              "      <td>159.0</td>\n",
              "      <td>2.3</td>\n",
              "    </tr>\n",
              "    <tr>\n",
              "      <th>1</th>\n",
              "      <td>Carrots,Raw</td>\n",
              "      <td>0.07</td>\n",
              "      <td>1/2 Cup Shredded</td>\n",
              "      <td>23.7</td>\n",
              "      <td>0.0</td>\n",
              "      <td>0.1</td>\n",
              "      <td>19.2</td>\n",
              "      <td>5.6</td>\n",
              "      <td>1.6</td>\n",
              "      <td>0.6</td>\n",
              "      <td>15471.0</td>\n",
              "      <td>5.1</td>\n",
              "      <td>14.9</td>\n",
              "      <td>0.3</td>\n",
              "    </tr>\n",
              "    <tr>\n",
              "      <th>2</th>\n",
              "      <td>Celery, Raw</td>\n",
              "      <td>0.04</td>\n",
              "      <td>1 Stalk</td>\n",
              "      <td>6.4</td>\n",
              "      <td>0.0</td>\n",
              "      <td>0.1</td>\n",
              "      <td>34.8</td>\n",
              "      <td>1.5</td>\n",
              "      <td>0.7</td>\n",
              "      <td>0.3</td>\n",
              "      <td>53.6</td>\n",
              "      <td>2.8</td>\n",
              "      <td>16.0</td>\n",
              "      <td>0.2</td>\n",
              "    </tr>\n",
              "    <tr>\n",
              "      <th>3</th>\n",
              "      <td>Frozen Corn</td>\n",
              "      <td>0.18</td>\n",
              "      <td>1/2 Cup</td>\n",
              "      <td>72.2</td>\n",
              "      <td>0.0</td>\n",
              "      <td>0.6</td>\n",
              "      <td>2.5</td>\n",
              "      <td>17.1</td>\n",
              "      <td>2.0</td>\n",
              "      <td>2.5</td>\n",
              "      <td>106.6</td>\n",
              "      <td>5.2</td>\n",
              "      <td>3.3</td>\n",
              "      <td>0.3</td>\n",
              "    </tr>\n",
              "    <tr>\n",
              "      <th>4</th>\n",
              "      <td>Lettuce,Iceberg,Raw</td>\n",
              "      <td>0.02</td>\n",
              "      <td>1 Leaf</td>\n",
              "      <td>2.6</td>\n",
              "      <td>0.0</td>\n",
              "      <td>0.0</td>\n",
              "      <td>1.8</td>\n",
              "      <td>0.4</td>\n",
              "      <td>0.3</td>\n",
              "      <td>0.2</td>\n",
              "      <td>66.0</td>\n",
              "      <td>0.8</td>\n",
              "      <td>3.8</td>\n",
              "      <td>0.1</td>\n",
              "    </tr>\n",
              "  </tbody>\n",
              "</table>\n",
              "</div>"
            ],
            "text/plain": [
              "                 Foods  Price/ Serving  ... Calcium mg  Iron mg\n",
              "0      Frozen Broccoli            0.16  ...      159.0      2.3\n",
              "1          Carrots,Raw            0.07  ...       14.9      0.3\n",
              "2          Celery, Raw            0.04  ...       16.0      0.2\n",
              "3          Frozen Corn            0.18  ...        3.3      0.3\n",
              "4  Lettuce,Iceberg,Raw            0.02  ...        3.8      0.1\n",
              "\n",
              "[5 rows x 14 columns]"
            ]
          },
          "metadata": {
            "tags": []
          },
          "execution_count": 13
        }
      ]
    },
    {
      "cell_type": "markdown",
      "metadata": {
        "id": "Q1v5XibiDIYQ",
        "colab_type": "text"
      },
      "source": [
        "### Create the `PuLP` problem variable. Since it is a cost minimization problem, we need to use `LpMinimize`"
      ]
    },
    {
      "cell_type": "code",
      "metadata": {
        "id": "VuRTYI_LDIYS",
        "colab_type": "code",
        "colab": {}
      },
      "source": [
        "# Create the 'prob' variable to contain the problem data\n",
        "prob = LpProblem(\"Simple Diet Problem\",LpMinimize)"
      ],
      "execution_count": 0,
      "outputs": []
    },
    {
      "cell_type": "markdown",
      "metadata": {
        "id": "Is6yoLV_DIYZ",
        "colab_type": "text"
      },
      "source": [
        "### Create a list of food items from the dataset"
      ]
    },
    {
      "cell_type": "code",
      "metadata": {
        "id": "iIz9n5YSDIYc",
        "colab_type": "code",
        "colab": {}
      },
      "source": [
        "# Creates a list of the Ingredients\n",
        "food_items = list(df['Foods'])"
      ],
      "execution_count": 0,
      "outputs": []
    },
    {
      "cell_type": "code",
      "metadata": {
        "id": "sigBh-ODDIYj",
        "colab_type": "code",
        "colab": {
          "base_uri": "https://localhost:8080/",
          "height": 87
        },
        "outputId": "0e9f2433-196d-456f-a971-c65392ff4cfd"
      },
      "source": [
        "print(\"So, the food items to consdier, are\\n\"+\"-\"*100)\n",
        "for f in food_items:\n",
        "    print(f,end=', ')"
      ],
      "execution_count": 16,
      "outputs": [
        {
          "output_type": "stream",
          "text": [
            "So, the food items to consdier, are\n",
            "----------------------------------------------------------------------------------------------------\n",
            "Frozen Broccoli, Carrots,Raw, Celery, Raw, Frozen Corn, Lettuce,Iceberg,Raw, Peppers, Sweet, Raw, Potatoes, Baked, Tofu, Roasted Chicken, Spaghetti W/ Sauce, Tomato,Red,Ripe,Raw, Apple,Raw,W/Skin, Banana, Grapes, Kiwifruit,Raw,Fresh, Oranges, Bagels, Wheat Bread, White Bread, Oatmeal Cookies, Apple Pie, Chocolate Chip Cookies, Butter,Regular, Cheddar Cheese, 3.3% Fat,Whole Milk, 2% Lowfat Milk, Skim Milk, Poached Eggs, Scrambled Eggs, Bologna,Turkey, Frankfurter, Beef, Ham,Sliced,Extralean, Kielbasa,Prk, Cap'N Crunch, Cheerios, Corn Flks, Kellogg'S, Raisin Brn, Kellg'S, Rice Krispies, Special K, Oatmeal, Malt-O-Meal,Choc, Pizza W/Pepperoni, Taco, Hamburger W/Toppings, Hotdog, Plain, Couscous, White Rice, Macaroni,Ckd, Peanut Butter, Pork, Sardines in Oil, White Tuna in Water, Popcorn,Air-Popped, Potato Chips,Bbqflvr, Pretzels, Tortilla Chip, Chicknoodl Soup, Splt Pea&Hamsoup, Vegetbeef Soup, Neweng Clamchwd, Tomato Soup, New E Clamchwd,W/Mlk, Crm Mshrm Soup,W/Mlk, Beanbacn Soup,W/Watr, "
          ],
          "name": "stdout"
        }
      ]
    },
    {
      "cell_type": "markdown",
      "metadata": {
        "id": "s6xsYtKmDIYt",
        "colab_type": "text"
      },
      "source": [
        "### Create a dictinary of costs for all food items"
      ]
    },
    {
      "cell_type": "code",
      "metadata": {
        "id": "eZ57aef4DIYv",
        "colab_type": "code",
        "colab": {}
      },
      "source": [
        "costs = dict(zip(food_items,df['Price/ Serving']))"
      ],
      "execution_count": 0,
      "outputs": []
    },
    {
      "cell_type": "code",
      "metadata": {
        "id": "OQAhjFqwDIY2",
        "colab_type": "code",
        "colab": {
          "base_uri": "https://localhost:8080/",
          "height": 1092
        },
        "outputId": "5e3cb729-e4ce-42a9-e43a-76546c55b1f4"
      },
      "source": [
        "costs"
      ],
      "execution_count": 18,
      "outputs": [
        {
          "output_type": "execute_result",
          "data": {
            "text/plain": [
              "{'2% Lowfat Milk': 0.23,\n",
              " '3.3% Fat,Whole Milk': 0.16,\n",
              " 'Apple Pie': 0.16,\n",
              " 'Apple,Raw,W/Skin': 0.24,\n",
              " 'Bagels': 0.16,\n",
              " 'Banana': 0.15,\n",
              " 'Beanbacn Soup,W/Watr': 0.67,\n",
              " 'Bologna,Turkey': 0.15,\n",
              " 'Butter,Regular': 0.05,\n",
              " \"Cap'N Crunch\": 0.31,\n",
              " 'Carrots,Raw': 0.07,\n",
              " 'Celery, Raw': 0.04,\n",
              " 'Cheddar Cheese': 0.25,\n",
              " 'Cheerios': 0.28,\n",
              " 'Chicknoodl Soup': 0.39,\n",
              " 'Chocolate Chip Cookies': 0.03,\n",
              " \"Corn Flks, Kellogg'S\": 0.28,\n",
              " 'Couscous': 0.39,\n",
              " 'Crm Mshrm Soup,W/Mlk': 0.65,\n",
              " 'Frankfurter, Beef': 0.27,\n",
              " 'Frozen Broccoli': 0.16,\n",
              " 'Frozen Corn': 0.18,\n",
              " 'Grapes': 0.32,\n",
              " 'Ham,Sliced,Extralean': 0.33,\n",
              " 'Hamburger W/Toppings': 0.83,\n",
              " 'Hotdog, Plain': 0.31,\n",
              " 'Kielbasa,Prk': 0.15,\n",
              " 'Kiwifruit,Raw,Fresh': 0.49,\n",
              " 'Lettuce,Iceberg,Raw': 0.02,\n",
              " 'Macaroni,Ckd': 0.17,\n",
              " 'Malt-O-Meal,Choc': 0.52,\n",
              " 'New E Clamchwd,W/Mlk': 0.99,\n",
              " 'Neweng Clamchwd': 0.75,\n",
              " 'Oatmeal': 0.82,\n",
              " 'Oatmeal Cookies': 0.09,\n",
              " 'Oranges': 0.15,\n",
              " 'Peanut Butter': 0.07,\n",
              " 'Peppers, Sweet, Raw': 0.53,\n",
              " 'Pizza W/Pepperoni': 0.44,\n",
              " 'Poached Eggs': 0.08,\n",
              " 'Popcorn,Air-Popped': 0.04,\n",
              " 'Pork': 0.81,\n",
              " 'Potato Chips,Bbqflvr': 0.22,\n",
              " 'Potatoes, Baked': 0.06,\n",
              " 'Pretzels': 0.12,\n",
              " \"Raisin Brn, Kellg'S\": 0.34,\n",
              " 'Rice Krispies': 0.32,\n",
              " 'Roasted Chicken': 0.84,\n",
              " 'Sardines in Oil': 0.45,\n",
              " 'Scrambled Eggs': 0.11,\n",
              " 'Skim Milk': 0.13,\n",
              " 'Spaghetti W/ Sauce': 0.78,\n",
              " 'Special K': 0.38,\n",
              " 'Splt Pea&Hamsoup': 0.67,\n",
              " 'Taco': 0.59,\n",
              " 'Tofu': 0.31,\n",
              " 'Tomato Soup': 0.39,\n",
              " 'Tomato,Red,Ripe,Raw': 0.27,\n",
              " 'Tortilla Chip': 0.19,\n",
              " 'Vegetbeef Soup': 0.71,\n",
              " 'Wheat Bread': 0.05,\n",
              " 'White Bread': 0.06,\n",
              " 'White Rice': 0.08,\n",
              " 'White Tuna in Water': 0.69}"
            ]
          },
          "metadata": {
            "tags": []
          },
          "execution_count": 18
        }
      ]
    },
    {
      "cell_type": "markdown",
      "metadata": {
        "id": "zK9fuFSDDIZB",
        "colab_type": "text"
      },
      "source": [
        "### Create a dictionary of calories for all food items"
      ]
    },
    {
      "cell_type": "code",
      "metadata": {
        "id": "RxKbuJo0DIZD",
        "colab_type": "code",
        "colab": {}
      },
      "source": [
        "calories = dict(zip(food_items,df['Calories']))"
      ],
      "execution_count": 0,
      "outputs": []
    },
    {
      "cell_type": "markdown",
      "metadata": {
        "id": "XIDXNVHLDIZJ",
        "colab_type": "text"
      },
      "source": [
        "### Create a dictionary of cholesterol for all food items"
      ]
    },
    {
      "cell_type": "code",
      "metadata": {
        "id": "aqK8fDKgDIZL",
        "colab_type": "code",
        "colab": {}
      },
      "source": [
        "cholesterol = dict(zip(food_items,df['Cholesterol mg']))"
      ],
      "execution_count": 0,
      "outputs": []
    },
    {
      "cell_type": "markdown",
      "metadata": {
        "id": "UCQJ7EroDIZR",
        "colab_type": "text"
      },
      "source": [
        "### Create a dictionary of total fat for all food items"
      ]
    },
    {
      "cell_type": "code",
      "metadata": {
        "id": "_WS616HBDIZT",
        "colab_type": "code",
        "colab": {}
      },
      "source": [
        "fat = dict(zip(food_items,df['Total_Fat g']))"
      ],
      "execution_count": 0,
      "outputs": []
    },
    {
      "cell_type": "markdown",
      "metadata": {
        "id": "HUKxuZqqDIZa",
        "colab_type": "text"
      },
      "source": [
        "### Create a dictionary of sodium for all food items"
      ]
    },
    {
      "cell_type": "code",
      "metadata": {
        "id": "YORiO0sCDIZb",
        "colab_type": "code",
        "colab": {}
      },
      "source": [
        "sodium = dict(zip(food_items,df['Sodium mg']))"
      ],
      "execution_count": 0,
      "outputs": []
    },
    {
      "cell_type": "markdown",
      "metadata": {
        "id": "UdQvmb2CDIZi",
        "colab_type": "text"
      },
      "source": [
        "### Create a dictionary of carbohydrates for all food items"
      ]
    },
    {
      "cell_type": "code",
      "metadata": {
        "id": "yLD-UODdDIZl",
        "colab_type": "code",
        "colab": {}
      },
      "source": [
        "carbs = dict(zip(food_items,df['Carbohydrates g']))"
      ],
      "execution_count": 0,
      "outputs": []
    },
    {
      "cell_type": "markdown",
      "metadata": {
        "id": "mATC2cJ1DIZs",
        "colab_type": "text"
      },
      "source": [
        "### Create a dictionary of dietary fiber for all food items"
      ]
    },
    {
      "cell_type": "code",
      "metadata": {
        "id": "HI7IKbjnDIZu",
        "colab_type": "code",
        "colab": {}
      },
      "source": [
        "fiber = dict(zip(food_items,df['Dietary_Fiber g']))"
      ],
      "execution_count": 0,
      "outputs": []
    },
    {
      "cell_type": "markdown",
      "metadata": {
        "id": "EH3nbGiSDIZ2",
        "colab_type": "text"
      },
      "source": [
        "### Create a dictionary of protein for all food items"
      ]
    },
    {
      "cell_type": "code",
      "metadata": {
        "id": "LZ70b9WqDIZ4",
        "colab_type": "code",
        "colab": {}
      },
      "source": [
        "protein = dict(zip(food_items,df['Protein g']))"
      ],
      "execution_count": 0,
      "outputs": []
    },
    {
      "cell_type": "markdown",
      "metadata": {
        "id": "NuM3FJ3uDIaE",
        "colab_type": "text"
      },
      "source": [
        "### Create a dictionary of vitamin A for all food items"
      ]
    },
    {
      "cell_type": "code",
      "metadata": {
        "id": "xSlRyFZoDIaG",
        "colab_type": "code",
        "colab": {}
      },
      "source": [
        "vit_A = dict(zip(food_items,df['Vit_A IU']))"
      ],
      "execution_count": 0,
      "outputs": []
    },
    {
      "cell_type": "markdown",
      "metadata": {
        "id": "lsqbew6TDIaQ",
        "colab_type": "text"
      },
      "source": [
        "### Create a dictionary of vitamin C for all food items"
      ]
    },
    {
      "cell_type": "code",
      "metadata": {
        "id": "FnhySKvJDIaT",
        "colab_type": "code",
        "colab": {}
      },
      "source": [
        "vit_C = dict(zip(food_items,df['Vit_C IU']))"
      ],
      "execution_count": 0,
      "outputs": []
    },
    {
      "cell_type": "markdown",
      "metadata": {
        "id": "Tlo-wjhGDIaa",
        "colab_type": "text"
      },
      "source": [
        "### Create a dictionary of calcium for all food items"
      ]
    },
    {
      "cell_type": "code",
      "metadata": {
        "id": "hKuJa8sUDIac",
        "colab_type": "code",
        "colab": {}
      },
      "source": [
        "calcium = dict(zip(food_items,df['Calcium mg']))"
      ],
      "execution_count": 0,
      "outputs": []
    },
    {
      "cell_type": "markdown",
      "metadata": {
        "id": "dEN0NH-GDIai",
        "colab_type": "text"
      },
      "source": [
        "### Create a dictionary of iron for all food items"
      ]
    },
    {
      "cell_type": "code",
      "metadata": {
        "id": "fMosrZauDIam",
        "colab_type": "code",
        "colab": {}
      },
      "source": [
        "iron = dict(zip(food_items,df['Iron mg']))"
      ],
      "execution_count": 0,
      "outputs": []
    },
    {
      "cell_type": "markdown",
      "metadata": {
        "id": "N7Q0hsDMDIas",
        "colab_type": "text"
      },
      "source": [
        "### Create a dictionary of food items with lower bound"
      ]
    },
    {
      "cell_type": "code",
      "metadata": {
        "id": "UbKxEXGNDIau",
        "colab_type": "code",
        "colab": {}
      },
      "source": [
        "# A dictionary called 'food_vars' is created to contain the referenced Variables\n",
        "food_vars = LpVariable.dicts(\"Food\",food_items,0,cat='Continuous')"
      ],
      "execution_count": 0,
      "outputs": []
    },
    {
      "cell_type": "code",
      "metadata": {
        "id": "DY45gxlRDIa1",
        "colab_type": "code",
        "colab": {
          "base_uri": "https://localhost:8080/",
          "height": 1092
        },
        "outputId": "c1fce9c8-e2f4-433f-b7c7-98405d17ff65"
      },
      "source": [
        "food_vars"
      ],
      "execution_count": 31,
      "outputs": [
        {
          "output_type": "execute_result",
          "data": {
            "text/plain": [
              "{'2% Lowfat Milk': Food_2%_Lowfat_Milk,\n",
              " '3.3% Fat,Whole Milk': Food_3.3%_Fat,Whole_Milk,\n",
              " 'Apple Pie': Food_Apple_Pie,\n",
              " 'Apple,Raw,W/Skin': Food_Apple,Raw,W_Skin,\n",
              " 'Bagels': Food_Bagels,\n",
              " 'Banana': Food_Banana,\n",
              " 'Beanbacn Soup,W/Watr': Food_Beanbacn_Soup,W_Watr,\n",
              " 'Bologna,Turkey': Food_Bologna,Turkey,\n",
              " 'Butter,Regular': Food_Butter,Regular,\n",
              " \"Cap'N Crunch\": Food_Cap'N_Crunch,\n",
              " 'Carrots,Raw': Food_Carrots,Raw,\n",
              " 'Celery, Raw': Food_Celery,_Raw,\n",
              " 'Cheddar Cheese': Food_Cheddar_Cheese,\n",
              " 'Cheerios': Food_Cheerios,\n",
              " 'Chicknoodl Soup': Food_Chicknoodl_Soup,\n",
              " 'Chocolate Chip Cookies': Food_Chocolate_Chip_Cookies,\n",
              " \"Corn Flks, Kellogg'S\": Food_Corn_Flks,_Kellogg'S,\n",
              " 'Couscous': Food_Couscous,\n",
              " 'Crm Mshrm Soup,W/Mlk': Food_Crm_Mshrm_Soup,W_Mlk,\n",
              " 'Frankfurter, Beef': Food_Frankfurter,_Beef,\n",
              " 'Frozen Broccoli': Food_Frozen_Broccoli,\n",
              " 'Frozen Corn': Food_Frozen_Corn,\n",
              " 'Grapes': Food_Grapes,\n",
              " 'Ham,Sliced,Extralean': Food_Ham,Sliced,Extralean,\n",
              " 'Hamburger W/Toppings': Food_Hamburger_W_Toppings,\n",
              " 'Hotdog, Plain': Food_Hotdog,_Plain,\n",
              " 'Kielbasa,Prk': Food_Kielbasa,Prk,\n",
              " 'Kiwifruit,Raw,Fresh': Food_Kiwifruit,Raw,Fresh,\n",
              " 'Lettuce,Iceberg,Raw': Food_Lettuce,Iceberg,Raw,\n",
              " 'Macaroni,Ckd': Food_Macaroni,Ckd,\n",
              " 'Malt-O-Meal,Choc': Food_Malt_O_Meal,Choc,\n",
              " 'New E Clamchwd,W/Mlk': Food_New_E_Clamchwd,W_Mlk,\n",
              " 'Neweng Clamchwd': Food_Neweng_Clamchwd,\n",
              " 'Oatmeal': Food_Oatmeal,\n",
              " 'Oatmeal Cookies': Food_Oatmeal_Cookies,\n",
              " 'Oranges': Food_Oranges,\n",
              " 'Peanut Butter': Food_Peanut_Butter,\n",
              " 'Peppers, Sweet, Raw': Food_Peppers,_Sweet,_Raw,\n",
              " 'Pizza W/Pepperoni': Food_Pizza_W_Pepperoni,\n",
              " 'Poached Eggs': Food_Poached_Eggs,\n",
              " 'Popcorn,Air-Popped': Food_Popcorn,Air_Popped,\n",
              " 'Pork': Food_Pork,\n",
              " 'Potato Chips,Bbqflvr': Food_Potato_Chips,Bbqflvr,\n",
              " 'Potatoes, Baked': Food_Potatoes,_Baked,\n",
              " 'Pretzels': Food_Pretzels,\n",
              " \"Raisin Brn, Kellg'S\": Food_Raisin_Brn,_Kellg'S,\n",
              " 'Rice Krispies': Food_Rice_Krispies,\n",
              " 'Roasted Chicken': Food_Roasted_Chicken,\n",
              " 'Sardines in Oil': Food_Sardines_in_Oil,\n",
              " 'Scrambled Eggs': Food_Scrambled_Eggs,\n",
              " 'Skim Milk': Food_Skim_Milk,\n",
              " 'Spaghetti W/ Sauce': Food_Spaghetti_W__Sauce,\n",
              " 'Special K': Food_Special_K,\n",
              " 'Splt Pea&Hamsoup': Food_Splt_Pea&Hamsoup,\n",
              " 'Taco': Food_Taco,\n",
              " 'Tofu': Food_Tofu,\n",
              " 'Tomato Soup': Food_Tomato_Soup,\n",
              " 'Tomato,Red,Ripe,Raw': Food_Tomato,Red,Ripe,Raw,\n",
              " 'Tortilla Chip': Food_Tortilla_Chip,\n",
              " 'Vegetbeef Soup': Food_Vegetbeef_Soup,\n",
              " 'Wheat Bread': Food_Wheat_Bread,\n",
              " 'White Bread': Food_White_Bread,\n",
              " 'White Rice': Food_White_Rice,\n",
              " 'White Tuna in Water': Food_White_Tuna_in_Water}"
            ]
          },
          "metadata": {
            "tags": []
          },
          "execution_count": 31
        }
      ]
    },
    {
      "cell_type": "markdown",
      "metadata": {
        "id": "KwfrJhPPDIbB",
        "colab_type": "text"
      },
      "source": [
        "### Adding the objective function to the problem"
      ]
    },
    {
      "cell_type": "code",
      "metadata": {
        "id": "P6SddS6XDIbD",
        "colab_type": "code",
        "colab": {}
      },
      "source": [
        "# The objective function is added to 'prob' first\n",
        "prob += lpSum([costs[i]*food_vars[i] for i in food_items]), \"Total Cost of the balanced diet\""
      ],
      "execution_count": 0,
      "outputs": []
    },
    {
      "cell_type": "markdown",
      "metadata": {
        "id": "Zmoh2sahDIbI",
        "colab_type": "text"
      },
      "source": [
        "### Adding the calorie constraints to the problem"
      ]
    },
    {
      "cell_type": "code",
      "metadata": {
        "id": "ZOFLvqqaDIbK",
        "colab_type": "code",
        "colab": {}
      },
      "source": [
        "prob += lpSum([calories[f] * food_vars[f] for f in food_items]) >= 1500.0, \"CalorieMinimum\"\n",
        "prob += lpSum([calories[f] * food_vars[f] for f in food_items]) <= 2500.0, \"CalorieMaximum\""
      ],
      "execution_count": 0,
      "outputs": []
    },
    {
      "cell_type": "markdown",
      "metadata": {
        "id": "neBHV-rVDIbU",
        "colab_type": "text"
      },
      "source": [
        "### Adding other nutrient constraints to the problem one by one..."
      ]
    },
    {
      "cell_type": "code",
      "metadata": {
        "id": "DsMpxeHnDIbW",
        "colab_type": "code",
        "colab": {}
      },
      "source": [
        "# Cholesterol\n",
        "prob += lpSum([cholesterol[f] * food_vars[f] for f in food_items]) >= 30.0, \"CholesterolMinimum\"\n",
        "prob += lpSum([cholesterol[f] * food_vars[f] for f in food_items]) <= 240.0, \"CholesterolMaximum\"\n",
        "\n",
        "# Fat\n",
        "prob += lpSum([fat[f] * food_vars[f] for f in food_items]) >= 20.0, \"FatMinimum\"\n",
        "prob += lpSum([fat[f] * food_vars[f] for f in food_items]) <= 70.0, \"FatMaximum\"\n",
        "\n",
        "# Sodium\n",
        "prob += lpSum([sodium[f] * food_vars[f] for f in food_items]) >= 800.0, \"SodiumMinimum\"\n",
        "prob += lpSum([sodium[f] * food_vars[f] for f in food_items]) <= 2000.0, \"SodiumMaximum\"\n",
        "\n",
        "# Carbs\n",
        "prob += lpSum([carbs[f] * food_vars[f] for f in food_items]) >= 130.0, \"CarbsMinimum\"\n",
        "prob += lpSum([carbs[f] * food_vars[f] for f in food_items]) <= 450.0, \"CarbsMaximum\"\n",
        "\n",
        "# Fiber\n",
        "prob += lpSum([fiber[f] * food_vars[f] for f in food_items]) >= 125.0, \"FiberMinimum\"\n",
        "prob += lpSum([fiber[f] * food_vars[f] for f in food_items]) <= 250.0, \"FiberMaximum\"\n",
        "\n",
        "# Protein\n",
        "prob += lpSum([protein[f] * food_vars[f] for f in food_items]) >= 60.0, \"ProteinMinimum\"\n",
        "prob += lpSum([protein[f] * food_vars[f] for f in food_items]) <= 100.0, \"ProteinMaximum\"\n",
        "\n",
        "# Vitamin A\n",
        "prob += lpSum([vit_A[f] * food_vars[f] for f in food_items]) >= 1000.0, \"VitaminAMinimum\"\n",
        "prob += lpSum([vit_A[f] * food_vars[f] for f in food_items]) <= 10000.0, \"VitaminAMaximum\"\n",
        "\n",
        "# Vitamin C\n",
        "prob += lpSum([vit_C[f] * food_vars[f] for f in food_items]) >= 400.0, \"VitaminCMinimum\"\n",
        "prob += lpSum([vit_C[f] * food_vars[f] for f in food_items]) <= 5000.0, \"VitaminCMaximum\"\n",
        "\n",
        "# Calcium\n",
        "prob += lpSum([calcium[f] * food_vars[f] for f in food_items]) >= 700.0, \"CalciumMinimum\"\n",
        "prob += lpSum([calcium[f] * food_vars[f] for f in food_items]) <= 1500.0, \"CalciumMaximum\"\n",
        "\n",
        "# Iron\n",
        "prob += lpSum([iron[f] * food_vars[f] for f in food_items]) >= 10.0, \"IronMinimum\"\n",
        "prob += lpSum([iron[f] * food_vars[f] for f in food_items]) <= 40.0, \"IronMaximum\""
      ],
      "execution_count": 0,
      "outputs": []
    },
    {
      "cell_type": "markdown",
      "metadata": {
        "id": "dBoHGpeCDIbc",
        "colab_type": "text"
      },
      "source": [
        "### Writing problem data to a `.lp` file"
      ]
    },
    {
      "cell_type": "code",
      "metadata": {
        "id": "Ok793MQIDIbe",
        "colab_type": "code",
        "colab": {}
      },
      "source": [
        "# The problem data is written to an .lp file\n",
        "prob.writeLP(\"SimpleDietProblem.lp\")"
      ],
      "execution_count": 0,
      "outputs": []
    },
    {
      "cell_type": "markdown",
      "metadata": {
        "id": "Z7BVauP2DIbn",
        "colab_type": "text"
      },
      "source": [
        "### Run the solver"
      ]
    },
    {
      "cell_type": "code",
      "metadata": {
        "id": "toviS-qGDIbp",
        "colab_type": "code",
        "colab": {
          "base_uri": "https://localhost:8080/",
          "height": 34
        },
        "outputId": "4dfce0a4-d61a-4495-be03-0721949b7573"
      },
      "source": [
        "# The problem is solved using PuLP's choice of Solver\n",
        "prob.solve()"
      ],
      "execution_count": 36,
      "outputs": [
        {
          "output_type": "execute_result",
          "data": {
            "text/plain": [
              "1"
            ]
          },
          "metadata": {
            "tags": []
          },
          "execution_count": 36
        }
      ]
    },
    {
      "cell_type": "markdown",
      "metadata": {
        "id": "SlLI2hOfDIbx",
        "colab_type": "text"
      },
      "source": [
        "### Print the problem solution status `'optimal'`, `'infeasible'`, `'unbounded'` etc..."
      ]
    },
    {
      "cell_type": "code",
      "metadata": {
        "id": "LBSStndVDIbz",
        "colab_type": "code",
        "colab": {
          "base_uri": "https://localhost:8080/",
          "height": 34
        },
        "outputId": "36d8ec93-cce4-432c-ae5c-4bc2071695b8"
      },
      "source": [
        "# The status of the solution is printed to the screen\n",
        "print(\"Status:\", LpStatus[prob.status])"
      ],
      "execution_count": 37,
      "outputs": [
        {
          "output_type": "stream",
          "text": [
            "Status: Optimal\n"
          ],
          "name": "stdout"
        }
      ]
    },
    {
      "cell_type": "markdown",
      "metadata": {
        "id": "C3-6x9I2DIb7",
        "colab_type": "text"
      },
      "source": [
        "### Scan through the problem variables and print out only if the variable quanity is positive i.e. it is included in the optimal solution"
      ]
    },
    {
      "cell_type": "code",
      "metadata": {
        "id": "CVqWd-MjDIcA",
        "colab_type": "code",
        "colab": {
          "base_uri": "https://localhost:8080/",
          "height": 151
        },
        "outputId": "08812c99-ad93-4c99-f073-53f405eb23e7"
      },
      "source": [
        "print(\"Therefore, the optimal (least cost) balanced diet consists of\\n\"+\"-\"*110)\n",
        "for v in prob.variables():\n",
        "    if v.varValue>0:\n",
        "        print(v.name, \"=\", v.varValue)"
      ],
      "execution_count": 38,
      "outputs": [
        {
          "output_type": "stream",
          "text": [
            "Therefore, the optimal (least cost) balanced diet consists of\n",
            "--------------------------------------------------------------------------------------------------------------\n",
            "Food_Celery,_Raw = 52.64371\n",
            "Food_Frozen_Broccoli = 0.25960653\n",
            "Food_Lettuce,Iceberg,Raw = 63.988506\n",
            "Food_Oranges = 2.2929389\n",
            "Food_Poached_Eggs = 0.14184397\n",
            "Food_Popcorn,Air_Popped = 13.869322\n"
          ],
          "name": "stdout"
        }
      ]
    },
    {
      "cell_type": "markdown",
      "metadata": {
        "id": "THafvYwxDIcI",
        "colab_type": "text"
      },
      "source": [
        "### Print the optimal diet cost"
      ]
    },
    {
      "cell_type": "code",
      "metadata": {
        "id": "6oB8lkKKDIcJ",
        "colab_type": "code",
        "colab": {
          "base_uri": "https://localhost:8080/",
          "height": 34
        },
        "outputId": "f154b416-255a-4efb-d3fc-121e64b39fce"
      },
      "source": [
        "print(\"The total cost of this balanced diet is: ${}\".format(round(value(prob.objective),2)))"
      ],
      "execution_count": 39,
      "outputs": [
        {
          "output_type": "stream",
          "text": [
            "The total cost of this balanced diet is: $4.34\n"
          ],
          "name": "stdout"
        }
      ]
    }
  ]
}