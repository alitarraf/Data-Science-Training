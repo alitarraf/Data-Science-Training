{
  "nbformat": 4,
  "nbformat_minor": 0,
  "metadata": {
    "colab": {
      "name": "Introduction To Python.ipynb",
      "version": "0.3.2",
      "provenance": [],
      "collapsed_sections": [
        "G-lN-evD_-lB",
        "6qoICbPLOHQS",
        "rvZnAGQq3VrS"
      ],
      "include_colab_link": true
    },
    "language_info": {
      "codemirror_mode": {
        "name": "ipython",
        "version": 3
      },
      "file_extension": ".py",
      "mimetype": "text/x-python",
      "name": "python",
      "nbconvert_exporter": "python",
      "pygments_lexer": "ipython3",
      "version": "3.5.2"
    },
    "kernelspec": {
      "display_name": "Python 3",
      "language": "python",
      "name": "python3"
    }
  },
  "cells": [
    {
      "cell_type": "markdown",
      "metadata": {
        "id": "view-in-github",
        "colab_type": "text"
      },
      "source": [
        "<a href=\"https://colab.research.google.com/github/alitarraf/Data-Science-Training/blob/master/Introduction_To_Python.ipynb\" target=\"_parent\"><img src=\"https://colab.research.google.com/assets/colab-badge.svg\" alt=\"Open In Colab\"/></a>"
      ]
    },
    {
      "cell_type": "markdown",
      "metadata": {
        "id": "aQSvPYpoYpvG",
        "colab_type": "text"
      },
      "source": [
        "![alt text](https://raw.githubusercontent.com/alitarraf/Data-Science-Training/master/assets/princess.jpg)"
      ]
    },
    {
      "cell_type": "markdown",
      "metadata": {
        "id": "4d5cIfU3WKoI",
        "colab_type": "text"
      },
      "source": [
        "# Introduction to Python (Part 1)"
      ]
    },
    {
      "cell_type": "markdown",
      "metadata": {
        "id": "nmAY8Y6vWKoJ",
        "colab_type": "text"
      },
      "source": [
        "# 1. Why Python\n",
        "* Simple languange\n",
        "* Straightforward synthax\n",
        "* Easy to learn/read/maintain\n",
        "* Employers like python\n",
        "* Good for data analysis \n",
        "* Good for graphing and visualization\n",
        "\n"
      ]
    },
    {
      "cell_type": "markdown",
      "metadata": {
        "id": "fKp2IReXN1hc",
        "colab_type": "text"
      },
      "source": [
        "\n",
        "# 2. Basics of Python"
      ]
    },
    {
      "cell_type": "markdown",
      "metadata": {
        "id": "G-lN-evD_-lB",
        "colab_type": "text"
      },
      "source": [
        "## Python as a Calculator"
      ]
    },
    {
      "cell_type": "code",
      "metadata": {
        "id": "gzhnb9EFAEmJ",
        "colab_type": "code",
        "colab": {}
      },
      "source": [
        "1+1"
      ],
      "execution_count": 0,
      "outputs": []
    },
    {
      "cell_type": "code",
      "metadata": {
        "id": "c0ptLt6HDIXl",
        "colab_type": "code",
        "colab": {}
      },
      "source": [
        "9876*1234"
      ],
      "execution_count": 0,
      "outputs": []
    },
    {
      "cell_type": "code",
      "metadata": {
        "id": "kTAArhwzDITb",
        "colab_type": "code",
        "colab": {}
      },
      "source": [
        "(76+89+2-5419)*619/11"
      ],
      "execution_count": 0,
      "outputs": []
    },
    {
      "cell_type": "markdown",
      "metadata": {
        "id": "6qoICbPLOHQS",
        "colab_type": "text"
      },
      "source": [
        "## Hello World!"
      ]
    },
    {
      "cell_type": "code",
      "metadata": {
        "id": "9scXpFtqWKoK",
        "colab_type": "code",
        "outputId": "f27af95e-44b7-4934-d287-296e7f69ef62",
        "colab": {
          "base_uri": "https://localhost:8080/",
          "height": 34
        }
      },
      "source": [
        "print('Hello, World!')"
      ],
      "execution_count": 0,
      "outputs": [
        {
          "output_type": "stream",
          "text": [
            "Hello, World!\n"
          ],
          "name": "stdout"
        }
      ]
    },
    {
      "cell_type": "code",
      "metadata": {
        "id": "v-cL5xGNAFvu",
        "colab_type": "code",
        "outputId": "4e03710e-c779-4d9a-b8bb-1ca2f4457610",
        "colab": {
          "base_uri": "https://localhost:8080/",
          "height": 34
        }
      },
      "source": [
        "print (\"Hello, World!\")"
      ],
      "execution_count": 0,
      "outputs": [
        {
          "output_type": "stream",
          "text": [
            "Hello, World!\n"
          ],
          "name": "stdout"
        }
      ]
    },
    {
      "cell_type": "markdown",
      "metadata": {
        "id": "e1o5WObjAKZ1",
        "colab_type": "text"
      },
      "source": [
        "#### Your Turn!"
      ]
    },
    {
      "cell_type": "markdown",
      "metadata": {
        "id": "lrnOE7iKASQq",
        "colab_type": "text"
      },
      "source": [
        "Print your full name below"
      ]
    },
    {
      "cell_type": "code",
      "metadata": {
        "id": "Xg8NMbY9AZ7U",
        "colab_type": "code",
        "outputId": "fb7bee40-cae2-4bce-e562-7b4c40847dc6",
        "colab": {
          "base_uri": "https://localhost:8080/",
          "height": 34
        }
      },
      "source": [
        "## START CODE HERE\n",
        "\n",
        "print(\"Layane El Wazzi\")\n",
        "\n",
        "## END CODE HERE"
      ],
      "execution_count": 0,
      "outputs": [
        {
          "output_type": "stream",
          "text": [
            "Layane El Wazzi\n"
          ],
          "name": "stdout"
        }
      ]
    },
    {
      "cell_type": "markdown",
      "metadata": {
        "id": "2FKf6QKRAlIi",
        "colab_type": "text"
      },
      "source": [
        "##### Expected output"
      ]
    },
    {
      "cell_type": "markdown",
      "metadata": {
        "id": "rby-0hEnOP4l",
        "colab_type": "text"
      },
      "source": [
        "\n",
        "```\n",
        "Full Name\n",
        "```"
      ]
    },
    {
      "cell_type": "markdown",
      "metadata": {
        "id": "p7PKpyg0WKoS",
        "colab_type": "text"
      },
      "source": [
        "## Basic Data Types"
      ]
    },
    {
      "cell_type": "markdown",
      "metadata": {
        "id": "ujkxQ4SvmFRU",
        "colab_type": "text"
      },
      "source": [
        "Python is loosly typed, there's no nead to declare the data types"
      ]
    },
    {
      "cell_type": "markdown",
      "metadata": {
        "id": "QJDsyDc4Okrl",
        "colab_type": "text"
      },
      "source": [
        "### Integers and Floats"
      ]
    },
    {
      "cell_type": "code",
      "metadata": {
        "id": "ylUDKjzJWKoT",
        "colab_type": "code",
        "outputId": "e1c82ee7-d6e5-43b3-b5bb-7b571902c8b8",
        "colab": {
          "base_uri": "https://localhost:8080/",
          "height": 68
        }
      },
      "source": [
        "x = 1\n",
        "y = 1.0\n",
        "print(x)\n",
        "print(y)\n",
        "\n",
        "print (x, y)\n"
      ],
      "execution_count": 0,
      "outputs": [
        {
          "output_type": "stream",
          "text": [
            "1\n",
            "1.0\n",
            "1 1.0\n"
          ],
          "name": "stdout"
        }
      ]
    },
    {
      "cell_type": "markdown",
      "metadata": {
        "id": "2lfFMF01CKlq",
        "colab_type": "text"
      },
      "source": [
        "#### Your Turn!"
      ]
    },
    {
      "cell_type": "markdown",
      "metadata": {
        "id": "u8h9MN-hCNf5",
        "colab_type": "text"
      },
      "source": [
        "- Assign the numbers (4.78 - 3 - 9000.5) to three different variables\n",
        "- Print the numbers vertically\n",
        "- Print the numbers on the same line\n"
      ]
    },
    {
      "cell_type": "code",
      "metadata": {
        "id": "EE5F3eo7C6zh",
        "colab_type": "code",
        "outputId": "4479aaa1-cdfa-46e4-884f-685c57387ae7",
        "colab": {
          "base_uri": "https://localhost:8080/",
          "height": 85
        }
      },
      "source": [
        "## START CODE HERE\n",
        "\n",
        "x=4.78\n",
        "y=3\n",
        "z=9000.5\n",
        "\n",
        "print (x)\n",
        "print (y)\n",
        "print (z)\n",
        "\n",
        "print (x,y,z)\n",
        "\n",
        "## END CODE HERE"
      ],
      "execution_count": 0,
      "outputs": [
        {
          "output_type": "stream",
          "text": [
            "4.78\n",
            "3\n",
            "9000.5\n",
            "4.78 3 9000.5\n"
          ],
          "name": "stdout"
        }
      ]
    },
    {
      "cell_type": "markdown",
      "metadata": {
        "id": "oEYKyCNfDb3a",
        "colab_type": "text"
      },
      "source": [
        "##### Expected output\n"
      ]
    },
    {
      "cell_type": "markdown",
      "metadata": {
        "id": "18sn6j2WOrp2",
        "colab_type": "text"
      },
      "source": [
        "```\n",
        "4.78\n",
        "3\n",
        "9000.5\n",
        "\n",
        "4.78 3 9000.5\n",
        "\n",
        "```"
      ]
    },
    {
      "cell_type": "markdown",
      "metadata": {
        "id": "s9ccbZ_KWKoW",
        "colab_type": "text"
      },
      "source": [
        "### Strings"
      ]
    },
    {
      "cell_type": "code",
      "metadata": {
        "id": "P1oLUS-gWKoa",
        "colab_type": "code",
        "outputId": "9d12a28d-be69-4dd3-aac3-1691fbf7fae0",
        "colab": {
          "base_uri": "https://localhost:8080/",
          "height": 51
        }
      },
      "source": [
        "x = 'hello'\n",
        "y = \"hello\"\n",
        "print(x)\n",
        "print(y)"
      ],
      "execution_count": 0,
      "outputs": [
        {
          "output_type": "stream",
          "text": [
            "hello\n",
            "hello\n"
          ],
          "name": "stdout"
        }
      ]
    },
    {
      "cell_type": "markdown",
      "metadata": {
        "id": "fxs-mjjwWKod",
        "colab_type": "text"
      },
      "source": [
        "### Multiple assignment"
      ]
    },
    {
      "cell_type": "code",
      "metadata": {
        "id": "D5hoBljUWKod",
        "colab_type": "code",
        "outputId": "4bccc6f7-5c0b-4d64-e66c-a98479a1981d",
        "colab": {
          "base_uri": "https://localhost:8080/"
        }
      },
      "source": [
        "x, y = 1, 2\n",
        "print(x)\n",
        "print(y)\n",
        "\n",
        "a,b,c=4,5,6\n",
        "print (a,b,c)\n"
      ],
      "execution_count": 0,
      "outputs": [
        {
          "output_type": "stream",
          "text": [
            "1\n",
            "2\n",
            "4 5 6\n"
          ],
          "name": "stdout"
        }
      ]
    },
    {
      "cell_type": "markdown",
      "metadata": {
        "id": "fSmxNCHeWKof",
        "colab_type": "text"
      },
      "source": [
        "### Checking data types"
      ]
    },
    {
      "cell_type": "code",
      "metadata": {
        "id": "ZgiiRH2rWKog",
        "colab_type": "code",
        "outputId": "8927b84f-5fcc-469b-c757-ef10597edab2",
        "colab": {
          "base_uri": "https://localhost:8080/"
        }
      },
      "source": [
        "x = 1\n",
        "y = 1.0\n",
        "z = '1.0'\n",
        "print(type(x))\n",
        "print(type(y))\n",
        "print(type(z))"
      ],
      "execution_count": 0,
      "outputs": [
        {
          "output_type": "stream",
          "text": [
            "<class 'int'>\n",
            "<class 'float'>\n",
            "<class 'str'>\n"
          ],
          "name": "stdout"
        }
      ]
    },
    {
      "cell_type": "markdown",
      "metadata": {
        "id": "oRc94I_nWKoj",
        "colab_type": "text"
      },
      "source": [
        "### Operators with strings and numbers"
      ]
    },
    {
      "cell_type": "code",
      "metadata": {
        "id": "oZNLp0Z_WKol",
        "colab_type": "code",
        "outputId": "446f34e7-6a7c-444d-c983-e34af8d9b01c",
        "colab": {
          "base_uri": "https://localhost:8080/",
          "height": 51
        }
      },
      "source": [
        "print(1 + 2)\n",
        "print(2 * 2)"
      ],
      "execution_count": 0,
      "outputs": [
        {
          "output_type": "stream",
          "text": [
            "3\n",
            "4\n"
          ],
          "name": "stdout"
        }
      ]
    },
    {
      "cell_type": "code",
      "metadata": {
        "id": "1R1nAq2gWKoq",
        "colab_type": "code",
        "outputId": "61a9ae14-acac-4c3f-e1fe-6373eea8fb41",
        "colab": {
          "base_uri": "https://localhost:8080/"
        }
      },
      "source": [
        "print('hello' + ' world')"
      ],
      "execution_count": 0,
      "outputs": [
        {
          "output_type": "stream",
          "text": [
            "hello world\n",
            "hellohellohello\n"
          ],
          "name": "stdout"
        }
      ]
    },
    {
      "cell_type": "markdown",
      "metadata": {
        "id": "UEi2hRcnHH0i",
        "colab_type": "text"
      },
      "source": [
        "#### Your Turn!"
      ]
    },
    {
      "cell_type": "markdown",
      "metadata": {
        "id": "hyIe5XkMHL9Y",
        "colab_type": "text"
      },
      "source": [
        "- Choose a number between 1 and 4\n",
        "- Add to it 2\n",
        "- Print the result\n",
        "- Print your first name multiplied by this number"
      ]
    },
    {
      "cell_type": "code",
      "metadata": {
        "id": "LCo9RrdhHs5t",
        "colab_type": "code",
        "outputId": "7784109d-1eff-49b7-e522-5857a5ebfa6b",
        "colab": {
          "base_uri": "https://localhost:8080/",
          "height": 51
        }
      },
      "source": [
        "## START CODE HERE\n",
        "\n",
        "x=2\n",
        "y=x+2\n",
        "\n",
        "print (y)\n",
        "\n",
        "print (\"Layane\" * y)\n",
        "\n",
        "## END CODE HERE"
      ],
      "execution_count": 0,
      "outputs": [
        {
          "output_type": "stream",
          "text": [
            "4\n",
            "LayaneLayaneLayaneLayane\n"
          ],
          "name": "stdout"
        }
      ]
    },
    {
      "cell_type": "markdown",
      "metadata": {
        "id": "bRiVX0JtIFS6",
        "colab_type": "text"
      },
      "source": [
        "##### Expected output\n",
        "\n"
      ]
    },
    {
      "cell_type": "markdown",
      "metadata": {
        "id": "LRMBqNKKPKo2",
        "colab_type": "text"
      },
      "source": [
        "```\n",
        "4\n",
        "Layane Layane Layane Layane\n",
        "```"
      ]
    },
    {
      "cell_type": "markdown",
      "metadata": {
        "id": "Ft1hcJ7pWKow",
        "colab_type": "text"
      },
      "source": [
        "### String operations"
      ]
    },
    {
      "cell_type": "code",
      "metadata": {
        "id": "9BWy6ceEWKoy",
        "colab_type": "code",
        "outputId": "4cf5a61b-d7b5-4d96-df6e-f01681221114",
        "colab": {
          "base_uri": "https://localhost:8080/",
          "height": 34
        }
      },
      "source": [
        "x = 'hello, world.'\n",
        "\n",
        "print(len(x))"
      ],
      "execution_count": 0,
      "outputs": [
        {
          "output_type": "stream",
          "text": [
            "13\n"
          ],
          "name": "stdout"
        }
      ]
    },
    {
      "cell_type": "markdown",
      "metadata": {
        "id": "-d96maW5WKo1",
        "colab_type": "text"
      },
      "source": [
        "Slicing"
      ]
    },
    {
      "cell_type": "code",
      "metadata": {
        "id": "XkP64dB1WKo2",
        "colab_type": "code",
        "outputId": "6fb32111-e0a8-4f6f-afaf-141d31f94f45",
        "colab": {
          "base_uri": "https://localhost:8080/",
          "height": 102
        }
      },
      "source": [
        "x = 'hello, world.'\n",
        "\n",
        "print (x[0])\n",
        "print(x[7:11])\n",
        "print(x[:5])\n",
        "print(x[7:])\n",
        "print (x[-1])\n"
      ],
      "execution_count": 0,
      "outputs": [
        {
          "output_type": "stream",
          "text": [
            "h\n",
            "worl\n",
            "hello\n",
            "world.\n",
            ".\n"
          ],
          "name": "stdout"
        }
      ]
    },
    {
      "cell_type": "markdown",
      "metadata": {
        "id": "QvAZfExyWKpA",
        "colab_type": "text"
      },
      "source": [
        "String formatting"
      ]
    },
    {
      "cell_type": "code",
      "metadata": {
        "id": "hXlxRhQYWKpA",
        "colab_type": "code",
        "outputId": "feb5993c-b4c8-4c1e-e0b1-78d319577699",
        "colab": {
          "base_uri": "https://localhost:8080/"
        }
      },
      "source": [
        "x = 'John'\n",
        "\n",
        "print('Hello %s' % x)"
      ],
      "execution_count": 0,
      "outputs": [
        {
          "output_type": "stream",
          "text": [
            "Hello John\n"
          ],
          "name": "stdout"
        }
      ]
    },
    {
      "cell_type": "markdown",
      "metadata": {
        "id": "RnBod_cXIz9W",
        "colab_type": "text"
      },
      "source": [
        "#### Your Turn!"
      ]
    },
    {
      "cell_type": "markdown",
      "metadata": {
        "id": "yq_QIJbwLPTS",
        "colab_type": "text"
      },
      "source": [
        "- Type: \"Today is a beautiful day\"\n",
        "- Print the length of this phrase\n",
        "- Print \"beautiful\" using the slicing tool\n",
        "- Print the legnth of beautiful\n",
        "- Print \"life is beautiful\" using string formatting"
      ]
    },
    {
      "cell_type": "code",
      "metadata": {
        "id": "kWLQuNlqL7ly",
        "colab_type": "code",
        "outputId": "604cf257-c160-4d70-c3ca-e2e9a8e9bc6e",
        "colab": {
          "base_uri": "https://localhost:8080/",
          "height": 85
        }
      },
      "source": [
        "## START CODE HERE\n",
        "\n",
        "x=\"Today is a beautiful day\"\n",
        "print (len(x))\n",
        "\n",
        "print(x[11:20])\n",
        "\n",
        "print (len(x[11:20]))\n",
        "\n",
        "print (\"life is %s\" % x[11:20])\n",
        "\n",
        "## END CODE HERE"
      ],
      "execution_count": 0,
      "outputs": [
        {
          "output_type": "stream",
          "text": [
            "24\n",
            "beautiful\n",
            "9\n",
            "life is beautiful\n"
          ],
          "name": "stdout"
        }
      ]
    },
    {
      "cell_type": "markdown",
      "metadata": {
        "id": "rYENcu1_Nahh",
        "colab_type": "text"
      },
      "source": [
        "##### Expected output\n",
        "\n"
      ]
    },
    {
      "cell_type": "markdown",
      "metadata": {
        "id": "203HVWUEP_yt",
        "colab_type": "text"
      },
      "source": [
        "\n",
        "```\n",
        "24\n",
        "beautiful\n",
        "9\n",
        "life is beautiful\n",
        "\n",
        "```"
      ]
    },
    {
      "cell_type": "markdown",
      "metadata": {
        "id": "NxdFndEtWKpE",
        "colab_type": "text"
      },
      "source": [
        "## Conditions"
      ]
    },
    {
      "cell_type": "markdown",
      "metadata": {
        "id": "1MynN5CtQVYr",
        "colab_type": "text"
      },
      "source": [
        "### Boolean variables\n",
        "Conditions are evaluated using boolean variables"
      ]
    },
    {
      "cell_type": "code",
      "metadata": {
        "id": "tdIJR3yiWKpJ",
        "colab_type": "code",
        "outputId": "d8039b83-6cc1-4ad1-dca5-ff79dfa699dd",
        "colab": {
          "base_uri": "https://localhost:8080/",
          "height": 34
        }
      },
      "source": [
        "y = (2 == 3)\n",
        "print(y)"
      ],
      "execution_count": 0,
      "outputs": [
        {
          "output_type": "stream",
          "text": [
            "False\n"
          ],
          "name": "stdout"
        }
      ]
    },
    {
      "cell_type": "markdown",
      "metadata": {
        "id": "7_SwQICEQrBU",
        "colab_type": "text"
      },
      "source": [
        "#### Your Turn!"
      ]
    },
    {
      "cell_type": "markdown",
      "metadata": {
        "id": "rzZB9RoMQuDv",
        "colab_type": "text"
      },
      "source": [
        "- Assign two numbers to two different variables x and y\n",
        "- Verify if x and y are equal"
      ]
    },
    {
      "cell_type": "code",
      "metadata": {
        "id": "wT1ZpE-TQqNh",
        "colab_type": "code",
        "outputId": "dbbd3419-f593-44d1-fff0-51a733c31317",
        "colab": {
          "base_uri": "https://localhost:8080/",
          "height": 51
        }
      },
      "source": [
        "## START YOUR CODE HERE\n",
        "\n",
        "x=4\n",
        "y=8\n",
        "\n",
        "z = (x==y)\n",
        "print (z)\n",
        "\n",
        "\n",
        "print ( x==y)\n",
        "\n",
        "## END YOUR CODE HERE"
      ],
      "execution_count": 0,
      "outputs": [
        {
          "output_type": "stream",
          "text": [
            "False\n",
            "False\n"
          ],
          "name": "stdout"
        }
      ]
    },
    {
      "cell_type": "markdown",
      "metadata": {
        "id": "pMC1XYogRSgt",
        "colab_type": "text"
      },
      "source": [
        "##### Expected Output"
      ]
    },
    {
      "cell_type": "markdown",
      "metadata": {
        "id": "yZuBd9kHRVpH",
        "colab_type": "text"
      },
      "source": [
        "```\n",
        "False\n",
        "```\n",
        "\n"
      ]
    },
    {
      "cell_type": "markdown",
      "metadata": {
        "id": "994IQQW8WKpN",
        "colab_type": "text"
      },
      "source": [
        "### Boolean operators"
      ]
    },
    {
      "cell_type": "code",
      "metadata": {
        "id": "3oC1JK39WKpP",
        "colab_type": "code",
        "outputId": "f3c2ef1d-9e49-4be8-82c6-85380364698c",
        "colab": {
          "base_uri": "https://localhost:8080/",
          "height": 34
        }
      },
      "source": [
        "x = not (1 == 2)\n",
        "print(x)"
      ],
      "execution_count": 0,
      "outputs": [
        {
          "output_type": "stream",
          "text": [
            "True\n"
          ],
          "name": "stdout"
        }
      ]
    },
    {
      "cell_type": "code",
      "metadata": {
        "id": "c2G2_xuZWKpT",
        "colab_type": "code",
        "outputId": "5766cb91-fe2b-4856-f4bc-618c6b8c0793",
        "colab": {
          "base_uri": "https://localhost:8080/",
          "height": 34
        }
      },
      "source": [
        "y = (1 == 1) and (1 == 2)\n",
        "print(y)"
      ],
      "execution_count": 0,
      "outputs": [
        {
          "output_type": "stream",
          "text": [
            "False\n"
          ],
          "name": "stdout"
        }
      ]
    },
    {
      "cell_type": "code",
      "metadata": {
        "id": "z-LnsUZcWKpX",
        "colab_type": "code",
        "outputId": "2afabfd4-605f-4ba9-a4ed-bc403060d952",
        "colab": {
          "base_uri": "https://localhost:8080/",
          "height": 34
        }
      },
      "source": [
        "z = (1 == 1) or (1 == 2)\n",
        "print(z)"
      ],
      "execution_count": 0,
      "outputs": [
        {
          "output_type": "stream",
          "text": [
            "True\n"
          ],
          "name": "stdout"
        }
      ]
    },
    {
      "cell_type": "markdown",
      "metadata": {
        "id": "n8OmclsfWKpb",
        "colab_type": "text"
      },
      "source": [
        "### The \"in\" operator"
      ]
    },
    {
      "cell_type": "code",
      "metadata": {
        "id": "Siuoq1DuWKpd",
        "colab_type": "code",
        "outputId": "6bff5b4e-7672-4abb-d678-e03a08f192cc",
        "colab": {
          "base_uri": "https://localhost:8080/",
          "height": 34
        }
      },
      "source": [
        "x = 'asdfg'\n",
        "y = 'sd'\n",
        "print(y in x)"
      ],
      "execution_count": 0,
      "outputs": [
        {
          "output_type": "stream",
          "text": [
            "True\n"
          ],
          "name": "stdout"
        }
      ]
    },
    {
      "cell_type": "code",
      "metadata": {
        "id": "oraNIt1TWKpg",
        "colab_type": "code",
        "outputId": "b9ac0da1-95a0-45db-d619-d461f08a808b",
        "colab": {
          "base_uri": "https://localhost:8080/",
          "height": 34
        }
      },
      "source": [
        "x = 'asdfg'\n",
        "z = 'sf'\n",
        "print(z in x)"
      ],
      "execution_count": 0,
      "outputs": [
        {
          "output_type": "stream",
          "text": [
            "False\n"
          ],
          "name": "stdout"
        }
      ]
    },
    {
      "cell_type": "markdown",
      "metadata": {
        "id": "4EVnhMpvWKpi",
        "colab_type": "text"
      },
      "source": [
        "### The \"if\" condition"
      ]
    },
    {
      "cell_type": "code",
      "metadata": {
        "id": "uYxELKo8WKpj",
        "colab_type": "code",
        "outputId": "f7a6589b-905e-4e97-9965-6fe01b93f1fa",
        "colab": {
          "base_uri": "https://localhost:8080/",
          "height": 34
        }
      },
      "source": [
        "x = 'helol'\n",
        "if x in 'hello':\n",
        "    print('Hello!')\n"
      ],
      "execution_count": 0,
      "outputs": [
        {
          "output_type": "stream",
          "text": [
            "false\n"
          ],
          "name": "stdout"
        }
      ]
    },
    {
      "cell_type": "code",
      "metadata": {
        "colab_type": "code",
        "outputId": "cff32793-25f9-4076-fe81-abdf36f824fa",
        "id": "97gHQcdt708x",
        "colab": {
          "base_uri": "https://localhost:8080/",
          "height": 34
        }
      },
      "source": [
        "x = 3.0\n",
        "if type(x) is int:\n",
        "    print(\"I'm an int.\")\n",
        "else:\n",
        "    print(\"I'm not an int\")"
      ],
      "execution_count": 0,
      "outputs": [
        {
          "output_type": "stream",
          "text": [
            "I'm not an int\n"
          ],
          "name": "stdout"
        }
      ]
    },
    {
      "cell_type": "code",
      "metadata": {
        "colab_type": "code",
        "outputId": "7a97bb63-7b82-405a-98fa-28a9c4379ef4",
        "id": "UYejGs64708j",
        "colab": {
          "base_uri": "https://localhost:8080/",
          "height": 34
        }
      },
      "source": [
        "x = 3.0\n",
        "if type(x) is int:\n",
        "    print(\"I'm an int.\")\n",
        "elif type(x) is float:\n",
        "    print(\"I'm a float.\")\n",
        "else:\n",
        "    print(\"I'm neither an int nor a float\")"
      ],
      "execution_count": 0,
      "outputs": [
        {
          "output_type": "stream",
          "text": [
            "I'm a float.\n"
          ],
          "name": "stdout"
        }
      ]
    },
    {
      "cell_type": "markdown",
      "metadata": {
        "id": "t8buIEs8H1kf",
        "colab_type": "text"
      },
      "source": [
        "#### Your Turn!\n",
        "\n"
      ]
    },
    {
      "cell_type": "markdown",
      "metadata": {
        "id": "rmLead4SIRKa",
        "colab_type": "text"
      },
      "source": [
        "- Assign the number 2.0 and 2 in this order to two different variables x and y\n",
        "- Check if x > y and return \"You Got it Wrong!\"\n",
        "- Check if x < y and return \"You Got it Wrong!\"\n",
        "- Check if x = y and return \"You Got it Right!\"\n"
      ]
    },
    {
      "cell_type": "code",
      "metadata": {
        "id": "VYgtVgEAIGzc",
        "colab_type": "code",
        "outputId": "27c5908e-9903-499f-f3d0-edde17ffe4e6",
        "colab": {
          "base_uri": "https://localhost:8080/",
          "height": 34
        }
      },
      "source": [
        "## START YOUR CODE HERE\n",
        "\n",
        "x= 2.0\n",
        "y= 2\n",
        "\n",
        "if x < y:\n",
        "    print(\"You got it wrong!\")\n",
        "elif  x > y:\n",
        "    print(\"You got it wrong!\")\n",
        "else:\n",
        "    print(\"You got it right!\")\n",
        "\n",
        "## END YOUR CODE HERE"
      ],
      "execution_count": 0,
      "outputs": [
        {
          "output_type": "stream",
          "text": [
            "You got it right!\n"
          ],
          "name": "stdout"
        }
      ]
    },
    {
      "cell_type": "markdown",
      "metadata": {
        "id": "4uPtlIohINQo",
        "colab_type": "text"
      },
      "source": [
        "##### Expected output\n"
      ]
    },
    {
      "cell_type": "markdown",
      "metadata": {
        "id": "FSsiwgX0YdM4",
        "colab_type": "text"
      },
      "source": [
        "```\n",
        "You got it right!\n",
        "```\n",
        "\n"
      ]
    },
    {
      "cell_type": "markdown",
      "metadata": {
        "id": "NnOjElvUWKpr",
        "colab_type": "text"
      },
      "source": [
        "## Containers"
      ]
    },
    {
      "cell_type": "markdown",
      "metadata": {
        "id": "6udsFmdJ6nj8",
        "colab_type": "text"
      },
      "source": [
        "### Lists\n",
        "Lists are array-like, they can hold multiple valriables. Each variable has a specific index that can be used to access the variable itself."
      ]
    },
    {
      "cell_type": "code",
      "metadata": {
        "id": "nT8WBBbnWKpr",
        "colab_type": "code",
        "outputId": "98ba69ed-1905-4188-c846-5e5c475ac17b",
        "colab": {
          "base_uri": "https://localhost:8080/",
          "height": 51
        }
      },
      "source": [
        "x = [1, 2, 3]\n",
        "print(x)\n",
        "print(type(x))"
      ],
      "execution_count": 0,
      "outputs": [
        {
          "output_type": "stream",
          "text": [
            "[1, 2, 3]\n",
            "<class 'list'>\n"
          ],
          "name": "stdout"
        }
      ]
    },
    {
      "cell_type": "code",
      "metadata": {
        "id": "xTzK9TOHWKpt",
        "colab_type": "code",
        "outputId": "eb699585-12e8-40b5-ef3d-6bd9c0aabb3c",
        "colab": {
          "base_uri": "https://localhost:8080/",
          "height": 34
        }
      },
      "source": [
        "x = []\n",
        "x.append(1)\n",
        "x.append(2)\n",
        "x.append(3)\n",
        "print(x)"
      ],
      "execution_count": 0,
      "outputs": [
        {
          "output_type": "stream",
          "text": [
            "[1, 2, 3]\n"
          ],
          "name": "stdout"
        }
      ]
    },
    {
      "cell_type": "markdown",
      "metadata": {
        "id": "0RBNw-1nWKpx",
        "colab_type": "text"
      },
      "source": [
        "Slicing"
      ]
    },
    {
      "cell_type": "code",
      "metadata": {
        "id": "eSJlHbZQWKpx",
        "colab_type": "code",
        "outputId": "0c95f29e-48ed-41a1-843c-8cafc54b5962",
        "colab": {
          "base_uri": "https://localhost:8080/",
          "height": 85
        }
      },
      "source": [
        "x = [1, 2, 3, 4, 5]\n",
        "print (len (x))\n",
        "print(x[1:4])\n",
        "print(x[1:5])\n",
        "print(x[3:])"
      ],
      "execution_count": 0,
      "outputs": [
        {
          "output_type": "stream",
          "text": [
            "5\n",
            "[2, 3, 4]\n",
            "[2, 3, 4, 5]\n",
            "[4, 5]\n"
          ],
          "name": "stdout"
        }
      ]
    },
    {
      "cell_type": "markdown",
      "metadata": {
        "id": "fZsYwg2oWKp5",
        "colab_type": "text"
      },
      "source": [
        "Number of elements in a list"
      ]
    },
    {
      "cell_type": "code",
      "metadata": {
        "id": "6YCmowQ0WKp5",
        "colab_type": "code",
        "outputId": "999745f2-62d3-4a92-8c1d-f0c9431f232c",
        "colab": {
          "base_uri": "https://localhost:8080/",
          "height": 34
        }
      },
      "source": [
        "x = [1, 2, 3, 4, 5]\n",
        "print(len(x))"
      ],
      "execution_count": 0,
      "outputs": [
        {
          "output_type": "stream",
          "text": [
            "5\n"
          ],
          "name": "stdout"
        }
      ]
    },
    {
      "cell_type": "markdown",
      "metadata": {
        "id": "HirlmDq7WKp9",
        "colab_type": "text"
      },
      "source": [
        "Accessing elements"
      ]
    },
    {
      "cell_type": "code",
      "metadata": {
        "id": "_JoikDn5WKp-",
        "colab_type": "code",
        "outputId": "88bda8cd-0762-4757-e0fe-561eef19fcb2",
        "colab": {
          "base_uri": "https://localhost:8080/",
          "height": 51
        }
      },
      "source": [
        "x = [1, 2, 3, 4, 5]\n",
        "print('The first element of x: %s' % x[0])\n",
        "print('The third element of x: %s' % x[2])"
      ],
      "execution_count": 0,
      "outputs": [
        {
          "output_type": "stream",
          "text": [
            "The first element of x: 1\n",
            "The third element of x: 3\n"
          ],
          "name": "stdout"
        }
      ]
    },
    {
      "cell_type": "markdown",
      "metadata": {
        "id": "AjSlwWFqzrqn",
        "colab_type": "text"
      },
      "source": [
        "#### Your Turn!"
      ]
    },
    {
      "cell_type": "markdown",
      "metadata": {
        "id": "BGL8hCgdz83d",
        "colab_type": "text"
      },
      "source": [
        "- Create an empty list a\n",
        "- Append to it the following numbers: 1, 4, 7, 10, 13\n",
        "- Verify that the number 1 is in the list using the boolean operator in, and retrun \"The number 1 is in the list a\"\n",
        "- Print the last two items\n",
        "- Append these two items to a new list b, and add to it the following two additional numbers: The sum of the two items, and the multiplication of the two items\n",
        "- Print b\n",
        "- Print \"the length of b is: \" and print the length of b\n",
        "- print: \"The third element of a is...\"\n",
        "- pirnt: \" The sum of the first and the last element of b is...\""
      ]
    },
    {
      "cell_type": "code",
      "metadata": {
        "id": "s49n96wJzu1O",
        "colab_type": "code",
        "outputId": "135951d7-9520-44ea-c575-a44fe87aa8b5",
        "colab": {
          "base_uri": "https://localhost:8080/",
          "height": 136
        }
      },
      "source": [
        "## START YOUR CODE HERE\n",
        "\n",
        "\n",
        "## Create and empty list a\n",
        "a=[]\n",
        "\n",
        "## Append to it the numbers\n",
        "a.append (1)\n",
        "a.append (4)\n",
        "a.append (7)\n",
        "a.append (10)\n",
        "a.append (13)\n",
        "\n",
        "## print a\n",
        "print (a)\n",
        "\n",
        "## Verify that 1 is in a using IF statement\n",
        "if (1 in a):\n",
        "  print (\"The number 1 is in list a\")\n",
        "\n",
        "## Print the last two items of a using slicing\n",
        "print (a[3:])\n",
        "\n",
        "## create a new list b\n",
        "b=[]\n",
        "\n",
        "## append to it the last two items of a\n",
        "b.append(a[3])\n",
        "b.append(a[4])\n",
        "\n",
        "## append to it the sum\n",
        "b.append(a[3]+a[4])\n",
        "\n",
        "## append to it the product\n",
        "b.append(a[3]*a[4])\n",
        "\n",
        "## print b\n",
        "print (b)\n",
        "\n",
        "## print the kength of b\n",
        "print (\"the legnth of b is: %s\" % len(b))\n",
        "\n",
        "## print the third element of a\n",
        "print (\"The third element of a is %s\" % a[3])\n",
        "\n",
        "## print the sum of the first and last element of b\n",
        "print (\"The sum of the first and last element of b is %s\" % (b[0]+b[3]))\n",
        "\n",
        "## END YOUR CODE HERE"
      ],
      "execution_count": 0,
      "outputs": [
        {
          "output_type": "stream",
          "text": [
            "[1, 4, 7, 10, 13]\n",
            "The number 1 is in list a\n",
            "[10, 13]\n",
            "[10, 13, 23, 130]\n",
            "the legnth of b is: 4\n",
            "The third element of a is 10\n",
            "The sum of the first and last element of b is 140\n"
          ],
          "name": "stdout"
        }
      ]
    },
    {
      "cell_type": "markdown",
      "metadata": {
        "id": "BTYfLT3Sz26W",
        "colab_type": "text"
      },
      "source": [
        "##### Expected output"
      ]
    },
    {
      "cell_type": "markdown",
      "metadata": {
        "id": "FpSLIRoF3ovZ",
        "colab_type": "text"
      },
      "source": [
        "```\n",
        "The number 1 is in list a\n",
        "[10, 13]\n",
        "[10, 13, 23, 130]\n",
        "the legnth of b is: 4\n",
        "The third element of a is 10\n",
        "The sum of the first and last element of b is 140\n",
        "```\n",
        "\n"
      ]
    },
    {
      "cell_type": "markdown",
      "metadata": {
        "id": "v_-VzxIcWKqC",
        "colab_type": "text"
      },
      "source": [
        "### Dictionaries\n",
        "The dictionary is a data type that like lists, can store multiple values. Each value is mapped to its own key. Thus the keys of a dictionary are to be used to access its values."
      ]
    },
    {
      "cell_type": "code",
      "metadata": {
        "id": "8ZKRJM7sWKqD",
        "colab_type": "code",
        "outputId": "60833e52-7602-4c7b-91fe-3f86f5d95100",
        "colab": {
          "base_uri": "https://localhost:8080/",
          "height": 34
        }
      },
      "source": [
        "x = dict()\n",
        "print(x)"
      ],
      "execution_count": 0,
      "outputs": [
        {
          "output_type": "stream",
          "text": [
            "{}\n"
          ],
          "name": "stdout"
        }
      ]
    },
    {
      "cell_type": "code",
      "metadata": {
        "id": "Un51UzHHWKqG",
        "colab_type": "code",
        "outputId": "68138bc1-f81a-43da-dbcf-75141296451e",
        "colab": {
          "base_uri": "https://localhost:8080/",
          "height": 34
        }
      },
      "source": [
        "x['key 1'] = 'value 1'\n",
        "x['key 2'] = 'value 2'\n",
        "x['key 3'] = 'value 3'\n",
        "print(x)"
      ],
      "execution_count": 0,
      "outputs": [
        {
          "output_type": "stream",
          "text": [
            "{'key 1': 'value 1', 'key 2': 'value 2', 'key 3': 'value 3'}\n"
          ],
          "name": "stdout"
        }
      ]
    },
    {
      "cell_type": "code",
      "metadata": {
        "id": "g1OaXJdTWKqJ",
        "colab_type": "code",
        "outputId": "e49fb6c9-de24-4e78-cc33-ea663b58c9d7",
        "colab": {
          "base_uri": "https://localhost:8080/",
          "height": 34
        }
      },
      "source": [
        "x = {'key 1' : 'value 1', 'key 2': 'value 2'}\n",
        "print(x)"
      ],
      "execution_count": 0,
      "outputs": [
        {
          "output_type": "stream",
          "text": [
            "{'key 1': 'value 1', 'key 2': 'value 2'}\n"
          ],
          "name": "stdout"
        }
      ]
    },
    {
      "cell_type": "markdown",
      "metadata": {
        "id": "S38tA57mWKqM",
        "colab_type": "text"
      },
      "source": [
        "Removing elements"
      ]
    },
    {
      "cell_type": "code",
      "metadata": {
        "id": "2-7eDicgWKqN",
        "colab_type": "code",
        "outputId": "7aaea02b-23f9-41b9-d28f-cecb2e53ecc3",
        "colab": {
          "base_uri": "https://localhost:8080/",
          "height": 34
        }
      },
      "source": [
        "x = {'key 1' : 'value 1', 'key 2': 'value 2'}\n",
        "del x['key 1']\n",
        "print(x)"
      ],
      "execution_count": 0,
      "outputs": [
        {
          "output_type": "stream",
          "text": [
            "{'key 2': 'value 2'}\n"
          ],
          "name": "stdout"
        }
      ]
    },
    {
      "cell_type": "code",
      "metadata": {
        "id": "hjlo2HcSWKqQ",
        "colab_type": "code",
        "outputId": "f46c1926-27cc-47d1-eb02-9037e18469f7",
        "colab": {
          "base_uri": "https://localhost:8080/",
          "height": 51
        }
      },
      "source": [
        "x = {'key 1' : 'value 1', 'key 2': 'value 2'}\n",
        "y = x.pop('key 2')\n",
        "print(y)\n",
        "print(x)"
      ],
      "execution_count": 0,
      "outputs": [
        {
          "output_type": "stream",
          "text": [
            "value 2\n",
            "{'key 1': 'value 1'}\n"
          ],
          "name": "stdout"
        }
      ]
    },
    {
      "cell_type": "markdown",
      "metadata": {
        "id": "sY2Fn1EiWKqV",
        "colab_type": "text"
      },
      "source": [
        "Number of elements in a dict"
      ]
    },
    {
      "cell_type": "code",
      "metadata": {
        "id": "gHGzC2tIWKqV",
        "colab_type": "code",
        "outputId": "e6ed4cf9-f4c1-40da-e373-f21cd910086d",
        "colab": {
          "base_uri": "https://localhost:8080/",
          "height": 34
        }
      },
      "source": [
        "x = {'key 1' : 'value 1', 'key 2': 'value 2'}\n",
        "print(len(x))"
      ],
      "execution_count": 0,
      "outputs": [
        {
          "output_type": "stream",
          "text": [
            "2\n"
          ],
          "name": "stdout"
        }
      ]
    },
    {
      "cell_type": "markdown",
      "metadata": {
        "id": "0r6a0srMWKqW",
        "colab_type": "text"
      },
      "source": [
        "Accessing elements"
      ]
    },
    {
      "cell_type": "code",
      "metadata": {
        "id": "aXaklf0xWKqX",
        "colab_type": "code",
        "outputId": "be185611-6294-4476-d996-ae9dea39a3a7",
        "colab": {
          "base_uri": "https://localhost:8080/",
          "height": 34
        }
      },
      "source": [
        "x = {'key 1' : 'value 1', 'key 2': 'value 2'}\n",
        "print(\"The value of the element at key 'key 1': %s\" % x['key 1'])"
      ],
      "execution_count": 0,
      "outputs": [
        {
          "output_type": "stream",
          "text": [
            "The value of the element at key 'key 1': value 1\n"
          ],
          "name": "stdout"
        }
      ]
    },
    {
      "cell_type": "markdown",
      "metadata": {
        "id": "0VytGnzkWKqY",
        "colab_type": "text"
      },
      "source": [
        "Keys and values of a dict"
      ]
    },
    {
      "cell_type": "code",
      "metadata": {
        "id": "B36icCvzWKqZ",
        "colab_type": "code",
        "outputId": "7c624269-7a5b-4085-ba55-af8e82ed589d",
        "colab": {
          "base_uri": "https://localhost:8080/",
          "height": 51
        }
      },
      "source": [
        "x = {'key 1' : 'value 1', 'key 2': 'value 2'}\n",
        "\n",
        "# The keys of a dict\n",
        "print(x.keys())\n",
        "# The values of a dict\n",
        "print(x.values())"
      ],
      "execution_count": 0,
      "outputs": [
        {
          "output_type": "stream",
          "text": [
            "dict_keys(['key 1', 'key 2'])\n",
            "dict_values(['value 1', 'value 2'])\n"
          ],
          "name": "stdout"
        }
      ]
    },
    {
      "cell_type": "markdown",
      "metadata": {
        "id": "jYYk6M5-WKqc",
        "colab_type": "text"
      },
      "source": [
        "## Loops"
      ]
    },
    {
      "cell_type": "markdown",
      "metadata": {
        "id": "McQqoANM-pts",
        "colab_type": "text"
      },
      "source": [
        "### The \"for\" loop\n",
        "Used to iterate over a sequence"
      ]
    },
    {
      "cell_type": "code",
      "metadata": {
        "id": "dKa6LC3oWKqc",
        "colab_type": "code",
        "outputId": "7b6b7923-9331-4e23-948d-05f9a49a10c4",
        "colab": {
          "base_uri": "https://localhost:8080/",
          "height": 68
        }
      },
      "source": [
        "for x in [1, 2, 3]:\n",
        "    print (x)"
      ],
      "execution_count": 0,
      "outputs": [
        {
          "output_type": "stream",
          "text": [
            "1\n",
            "2\n",
            "3\n"
          ],
          "name": "stdout"
        }
      ]
    },
    {
      "cell_type": "markdown",
      "metadata": {
        "id": "bKcB0NT1WKqp",
        "colab_type": "text"
      },
      "source": [
        "The \"range\" function is used to create a sequence of numbers"
      ]
    },
    {
      "cell_type": "code",
      "metadata": {
        "id": "gL9hfoPTWKqp",
        "colab_type": "code",
        "outputId": "28f94ff4-af3c-437b-e210-5a398bb168d0",
        "colab": {
          "base_uri": "https://localhost:8080/",
          "height": 34
        }
      },
      "source": [
        "x = range(5)\n",
        "print(x)"
      ],
      "execution_count": 0,
      "outputs": [
        {
          "output_type": "stream",
          "text": [
            "range(0, 5)\n"
          ],
          "name": "stdout"
        }
      ]
    },
    {
      "cell_type": "code",
      "metadata": {
        "id": "vErgUOTGWKqu",
        "colab_type": "code",
        "outputId": "c0f7041e-bf5a-45c5-c70f-0d70647971f1",
        "colab": {
          "base_uri": "https://localhost:8080/",
          "height": 34
        }
      },
      "source": [
        "x = range(3, 7)\n",
        "print(x)"
      ],
      "execution_count": 0,
      "outputs": [
        {
          "output_type": "stream",
          "text": [
            "range(3, 7)\n"
          ],
          "name": "stdout"
        }
      ]
    },
    {
      "cell_type": "code",
      "metadata": {
        "id": "qcBIMm-7WKqx",
        "colab_type": "code",
        "outputId": "7ba49de7-ad2b-456b-b37d-6e4089701dc7",
        "colab": {
          "base_uri": "https://localhost:8080/",
          "height": 34
        }
      },
      "source": [
        "x = range(1, 7, 2)\n",
        "print(x)"
      ],
      "execution_count": 0,
      "outputs": [
        {
          "output_type": "stream",
          "text": [
            "range(1, 7, 2)\n"
          ],
          "name": "stdout"
        }
      ]
    },
    {
      "cell_type": "code",
      "metadata": {
        "id": "PenXOt2gWKq2",
        "colab_type": "code",
        "outputId": "b709da83-b9b9-4233-d673-e969fbe9d14e",
        "colab": {
          "base_uri": "https://localhost:8080/",
          "height": 102
        }
      },
      "source": [
        "x = range(5)\n",
        "for y in x:\n",
        "    print(y)"
      ],
      "execution_count": 0,
      "outputs": [
        {
          "output_type": "stream",
          "text": [
            "0\n",
            "1\n",
            "2\n",
            "3\n",
            "4\n"
          ],
          "name": "stdout"
        }
      ]
    },
    {
      "cell_type": "markdown",
      "metadata": {
        "id": "AFlJ84C4WKq4",
        "colab_type": "text"
      },
      "source": [
        "Iterating over a dictionary"
      ]
    },
    {
      "cell_type": "code",
      "metadata": {
        "id": "s84DOYQPWKq5",
        "colab_type": "code",
        "outputId": "c5a01df9-0e46-4cfa-d146-0bae61942621",
        "colab": {
          "base_uri": "https://localhost:8080/",
          "height": 51
        }
      },
      "source": [
        "x = {'k1': 'val1', 'k2': 'val2'}\n",
        "for y in x.items():\n",
        "    print(y)"
      ],
      "execution_count": 0,
      "outputs": [
        {
          "output_type": "stream",
          "text": [
            "('k1', 'val1')\n",
            "('k2', 'val2')\n"
          ],
          "name": "stdout"
        }
      ]
    },
    {
      "cell_type": "markdown",
      "metadata": {
        "id": "cz3iHnyv_kc0",
        "colab_type": "text"
      },
      "source": [
        "#### Your Turn! \n",
        "- Create a list containing 3 strings:a,b and c\n",
        "- Loop over the list and print out each of its elements\n",
        "\n",
        "*   Create a dictionary conatining 3 elements key-value pairs\n",
        "*   Loop over the items of the dictionary and print out each key-value pair\n"
      ]
    },
    {
      "cell_type": "code",
      "metadata": {
        "id": "03y-YQA9_zAh",
        "colab_type": "code",
        "outputId": "020af379-3bc4-4351-e6bd-52f3b4fb39bd",
        "colab": {
          "base_uri": "https://localhost:8080/",
          "height": 119
        }
      },
      "source": [
        "## START YOUR CODE HERE\n",
        "\n",
        "myList = ['a', 'b', 'c']\n",
        "for element in myList:\n",
        "    print(element)\n",
        "    \n",
        "\n",
        "myDict = {'k1': 'val1', 'k2': 'val2', 'k3': 'val3'}\n",
        "for key, value in myDict.items():\n",
        "    print(key, value)\n",
        "    \n",
        "## END YOUR CODE HERE\n"
      ],
      "execution_count": 0,
      "outputs": [
        {
          "output_type": "stream",
          "text": [
            "a\n",
            "b\n",
            "c\n",
            "k1 val1\n",
            "k2 val2\n",
            "k3 val3\n"
          ],
          "name": "stdout"
        }
      ]
    },
    {
      "cell_type": "markdown",
      "metadata": {
        "id": "fiIgXHPq_vuJ",
        "colab_type": "text"
      },
      "source": [
        "##### Expected output"
      ]
    },
    {
      "cell_type": "markdown",
      "metadata": {
        "id": "Jw4jWDb2MvNk",
        "colab_type": "text"
      },
      "source": [
        "\n",
        "\n",
        "```\n",
        "a\n",
        "b\n",
        "c\n",
        "k1 val1\n",
        "k2 val2\n",
        "k3 val3\n",
        "```\n",
        "\n"
      ]
    },
    {
      "cell_type": "markdown",
      "metadata": {
        "id": "pEOk5rayWKq_",
        "colab_type": "text"
      },
      "source": [
        "### The \"while\" loop\n",
        "Repeats as long as a certain boolean condition holds"
      ]
    },
    {
      "cell_type": "code",
      "metadata": {
        "id": "quRKz98XWKq_",
        "colab_type": "code",
        "outputId": "5c70f58f-ad8f-4ad1-c81a-8fed4e7a6050",
        "colab": {
          "base_uri": "https://localhost:8080/",
          "height": 68
        }
      },
      "source": [
        "x = 5\n",
        "while x > 2:\n",
        "    print (x)\n",
        "    x = x - 1"
      ],
      "execution_count": 0,
      "outputs": [
        {
          "output_type": "stream",
          "text": [
            "5\n",
            "4\n",
            "3\n"
          ],
          "name": "stdout"
        }
      ]
    },
    {
      "cell_type": "markdown",
      "metadata": {
        "id": "3U6xJ9LpWKrC",
        "colab_type": "text"
      },
      "source": [
        "### The \"break\" statement\n",
        "Used to break out of a loop"
      ]
    },
    {
      "cell_type": "code",
      "metadata": {
        "id": "7lIz-nkqWKrD",
        "colab_type": "code",
        "outputId": "67b42efc-a336-4d52-91b0-061db462904c",
        "colab": {
          "base_uri": "https://localhost:8080/",
          "height": 68
        }
      },
      "source": [
        "for x in range(10):\n",
        "    print (x)\n",
        "    if x == 2:\n",
        "        break"
      ],
      "execution_count": 0,
      "outputs": [
        {
          "output_type": "stream",
          "text": [
            "0\n",
            "1\n",
            "2\n"
          ],
          "name": "stdout"
        }
      ]
    },
    {
      "cell_type": "markdown",
      "metadata": {
        "id": "70QqTVVRWKrH",
        "colab_type": "text"
      },
      "source": [
        "### The \"continue\" statement\n",
        "Used to skip the current iteration and continue to the next one"
      ]
    },
    {
      "cell_type": "code",
      "metadata": {
        "id": "C9NrF5LoWKrH",
        "colab_type": "code",
        "outputId": "502b7f41-745f-40f0-bbc4-844e0c7fabf6",
        "colab": {
          "base_uri": "https://localhost:8080/",
          "height": 68
        }
      },
      "source": [
        "for x in range(10):\n",
        "    if x > 1 and x < 9:\n",
        "        continue\n",
        "    print(x)"
      ],
      "execution_count": 0,
      "outputs": [
        {
          "output_type": "stream",
          "text": [
            "0\n",
            "1\n",
            "9\n"
          ],
          "name": "stdout"
        }
      ]
    },
    {
      "cell_type": "markdown",
      "metadata": {
        "id": "UGRmFf2cO59T",
        "colab_type": "text"
      },
      "source": [
        "#### Your Turn!\n",
        "\n",
        "- Assign a varibale to 10\n",
        "- Loop and print out the varaible as long as its value is greater than 7\n",
        "- Subtract 1 from your variable in the loop"
      ]
    },
    {
      "cell_type": "code",
      "metadata": {
        "id": "lR-9NQFgO6Op",
        "colab_type": "code",
        "outputId": "2f09de66-9ab9-4dec-f565-ad328212cd83",
        "colab": {
          "base_uri": "https://localhost:8080/",
          "height": 68
        }
      },
      "source": [
        "## START YOUR CODE HER\n",
        "\n",
        "myVar = 10\n",
        "while myVar > 7:\n",
        "    print(myVar)\n",
        "    myVar = myVar - 1\n",
        "    \n",
        "    \n",
        "## END YOUR CODE HERE\n"
      ],
      "execution_count": 0,
      "outputs": [
        {
          "output_type": "stream",
          "text": [
            "10\n",
            "9\n",
            "8\n"
          ],
          "name": "stdout"
        }
      ]
    },
    {
      "cell_type": "markdown",
      "metadata": {
        "colab_type": "text",
        "id": "IJmfSkk8mM22"
      },
      "source": [
        "## Functions"
      ]
    },
    {
      "cell_type": "markdown",
      "metadata": {
        "id": "jR7Prf_dmQDP",
        "colab_type": "text"
      },
      "source": [
        "A function:\n",
        "\n",
        "- Orders code\n",
        "- Divides code into blocks\n",
        "- Makes code more readable\n",
        "- Makes code reusable\n",
        "\n",
        "A function encloses multiple lines of code that accomplish a certain task. It's formed of a block head, followed by a block (multiple lines) of code. In python, functions are defined using the keyword \"def\" and thus, the block head is formed as: def FunctionName(argument1, argument2, ...)."
      ]
    },
    {
      "cell_type": "code",
      "metadata": {
        "id": "FgJ3FsG5WKrK",
        "colab_type": "code",
        "colab": {}
      },
      "source": [
        "def SumOfTwo(x, y):\n",
        "    z = x + y\n",
        "    print(\"The sum of %s and %s is %s\" % (x, y, z))"
      ],
      "execution_count": 0,
      "outputs": []
    },
    {
      "cell_type": "markdown",
      "metadata": {
        "id": "_4G6Wp5aWKrT",
        "colab_type": "text"
      },
      "source": [
        "A function is called by writing the function's name followed by brackets filled with the corresponding arguments."
      ]
    },
    {
      "cell_type": "code",
      "metadata": {
        "id": "sI_NoVOSWKrU",
        "colab_type": "code",
        "outputId": "c879ea49-7ade-4c17-c6d8-1d684b2b6458",
        "colab": {
          "base_uri": "https://localhost:8080/",
          "height": 34
        }
      },
      "source": [
        "SumOfTwo(2, 3)"
      ],
      "execution_count": 0,
      "outputs": [
        {
          "output_type": "stream",
          "text": [
            "The sum of 2 and 3 is 5\n"
          ],
          "name": "stdout"
        }
      ]
    },
    {
      "cell_type": "markdown",
      "metadata": {
        "id": "HirxamB5WKrW",
        "colab_type": "text"
      },
      "source": [
        "A function can also return values through the use of the \"return\" keyword."
      ]
    },
    {
      "cell_type": "code",
      "metadata": {
        "id": "RDeNlv5SWKrX",
        "colab_type": "code",
        "colab": {}
      },
      "source": [
        "def SumOfTwo(x, y):\n",
        "    z = x + y\n",
        "    print(\"The sum of %s and %s is %s\" % (x, y, z))\n",
        "    return z"
      ],
      "execution_count": 0,
      "outputs": []
    },
    {
      "cell_type": "code",
      "metadata": {
        "id": "TndmzNwEWKrZ",
        "colab_type": "code",
        "outputId": "4f6f24a0-5a6c-455c-ade6-b8df3cc730f3",
        "colab": {
          "base_uri": "https://localhost:8080/",
          "height": 51
        }
      },
      "source": [
        "returnedValue = SumOfTwo(2, 5)\n",
        "print('The returned value is: %s' % returnedValue)"
      ],
      "execution_count": 0,
      "outputs": [
        {
          "output_type": "stream",
          "text": [
            "The sum of 2 and 5 is 7\n",
            "The returned value is: 7\n"
          ],
          "name": "stdout"
        }
      ]
    },
    {
      "cell_type": "markdown",
      "metadata": {
        "id": "q8-Fd7Wxb4tR",
        "colab_type": "text"
      },
      "source": [
        "#### Your Turn!"
      ]
    },
    {
      "cell_type": "markdown",
      "metadata": {
        "id": "kJzJaOXumv0d",
        "colab_type": "text"
      },
      "source": [
        "- Create a function \"Thirteen\" that takes two values a and b\n",
        "- This function should return True if one of the values is equal to 13 or if their sum or difference is 13\n",
        "- try it with the following pairs: 2 and 3, 2 and 13, 8 and 21"
      ]
    },
    {
      "cell_type": "code",
      "metadata": {
        "id": "JjaYpL45muIt",
        "colab_type": "code",
        "outputId": "e30054f5-305c-487d-e50f-29aa4f53337f",
        "colab": {
          "base_uri": "https://localhost:8080/",
          "height": 68
        }
      },
      "source": [
        "# Create a function that takes two integer values a and b.\n",
        "# The function should return True if one of the values is equal to 13 or if their sum or difference is 13.\n",
        "\n",
        "## START YOUR CODE HERE\n",
        "\n",
        "def Thirteen(a, b):\n",
        "    if a == 13 or b == 13:\n",
        "        return True\n",
        "    if a + b == 13 or a - b == 13 or b-a==13:\n",
        "        return True\n",
        "    return False\n",
        "\n",
        "  \n",
        "print(Thirteen(2, 3))\n",
        "print(Thirteen(2, 13))\n",
        "print(Thirteen(8, 21))\n",
        "\n",
        "## END YOUR CODE HERE"
      ],
      "execution_count": 0,
      "outputs": [
        {
          "output_type": "stream",
          "text": [
            "False\n",
            "True\n",
            "True\n"
          ],
          "name": "stdout"
        }
      ]
    },
    {
      "cell_type": "markdown",
      "metadata": {
        "id": "mukQBTLnmxpI",
        "colab_type": "text"
      },
      "source": [
        "##### ُExpected output"
      ]
    },
    {
      "cell_type": "markdown",
      "metadata": {
        "id": "42Z0_wT51NC5",
        "colab_type": "text"
      },
      "source": [
        "```\n",
        "False\n",
        "True\n",
        "True\n",
        "```\n",
        "\n"
      ]
    },
    {
      "cell_type": "markdown",
      "metadata": {
        "id": "rvZnAGQq3VrS",
        "colab_type": "text"
      },
      "source": [
        "#### Your Turn! CHALLENGING\n",
        "\n",
        "- Create a function \"FilterList\" that takes 3 arguments: a list \"myList\" and two numbers \"min\" and \"max\"\n",
        "- The function should retrun a list containing the numbers in myList that fall between min and max"
      ]
    },
    {
      "cell_type": "code",
      "metadata": {
        "id": "f_e4z4Fn1dy4",
        "colab_type": "code",
        "outputId": "a9737883-3313-4d10-f954-ccc03c54cd00",
        "colab": {
          "base_uri": "https://localhost:8080/"
        }
      },
      "source": [
        "## START YOUR CODE HERE\n",
        "\n",
        "def FilterList(myList, min, max):\n",
        "    result = []\n",
        "    for x in myList:\n",
        "        if (x <= max) and (x >= min):\n",
        "            result.append(x)\n",
        "    return result\n",
        "    \n",
        "l1 = range(10)\n",
        "l2 = FilterList(myList=l1, min=5, max=8)\n",
        "print(l2)\n",
        "\n",
        "# END YOUR CODE HERE"
      ],
      "execution_count": 0,
      "outputs": [
        {
          "output_type": "stream",
          "text": [
            "[5, 6, 7, 8]\n"
          ],
          "name": "stdout"
        }
      ]
    },
    {
      "cell_type": "markdown",
      "metadata": {
        "id": "aBQZGTU0-YjX",
        "colab_type": "text"
      },
      "source": [
        "##### Expected output"
      ]
    },
    {
      "cell_type": "markdown",
      "metadata": {
        "id": "TyHToMUS-gQG",
        "colab_type": "text"
      },
      "source": [
        "```\n",
        "[5, 6, 7, 8]\n",
        "```\n",
        "\n"
      ]
    }
  ]
}